{
 "cells": [
  {
   "cell_type": "code",
   "execution_count": 108,
   "metadata": {},
   "outputs": [],
   "source": [
    "import matplotlib.pyplot as plt\n",
    "import pandas as pd\n",
    "import numpy as np\n",
    "%matplotlib inline\n",
    "Gas_data = pd.read_csv('GasPrices.csv').iloc[:, 1:]"
   ]
  },
  {
   "cell_type": "code",
   "execution_count": 109,
   "metadata": {},
   "outputs": [
    {
     "name": "stdout",
     "output_type": "stream",
     "text": [
      "(101, 17)\n"
     ]
    },
    {
     "data": {
      "text/html": [
       "<div>\n",
       "<style scoped>\n",
       "    .dataframe tbody tr th:only-of-type {\n",
       "        vertical-align: middle;\n",
       "    }\n",
       "\n",
       "    .dataframe tbody tr th {\n",
       "        vertical-align: top;\n",
       "    }\n",
       "\n",
       "    .dataframe thead th {\n",
       "        text-align: right;\n",
       "    }\n",
       "</style>\n",
       "<table border=\"1\" class=\"dataframe\">\n",
       "  <thead>\n",
       "    <tr style=\"text-align: right;\">\n",
       "      <th></th>\n",
       "      <th>ID</th>\n",
       "      <th>Name</th>\n",
       "      <th>Price</th>\n",
       "      <th>Pumps</th>\n",
       "      <th>Interior</th>\n",
       "      <th>Restaurant</th>\n",
       "      <th>CarWash</th>\n",
       "      <th>Highway</th>\n",
       "      <th>Intersection</th>\n",
       "      <th>Stoplight</th>\n",
       "      <th>IntersectionStoplight</th>\n",
       "      <th>Gasolines</th>\n",
       "      <th>Competitors</th>\n",
       "      <th>Zipcode</th>\n",
       "      <th>Address</th>\n",
       "      <th>Income</th>\n",
       "      <th>Brand</th>\n",
       "    </tr>\n",
       "  </thead>\n",
       "  <tbody>\n",
       "    <tr>\n",
       "      <th>0</th>\n",
       "      <td>1</td>\n",
       "      <td>Shell</td>\n",
       "      <td>1.79</td>\n",
       "      <td>4</td>\n",
       "      <td>Y</td>\n",
       "      <td>N</td>\n",
       "      <td>N</td>\n",
       "      <td>N</td>\n",
       "      <td>Y</td>\n",
       "      <td>N</td>\n",
       "      <td>Intersection</td>\n",
       "      <td>3</td>\n",
       "      <td>N</td>\n",
       "      <td>78705</td>\n",
       "      <td>3201 N Lamar Blvd</td>\n",
       "      <td>12786</td>\n",
       "      <td>Shell</td>\n",
       "    </tr>\n",
       "    <tr>\n",
       "      <th>1</th>\n",
       "      <td>2</td>\n",
       "      <td>Valero</td>\n",
       "      <td>1.83</td>\n",
       "      <td>4</td>\n",
       "      <td>Y</td>\n",
       "      <td>N</td>\n",
       "      <td>N</td>\n",
       "      <td>N</td>\n",
       "      <td>Y</td>\n",
       "      <td>N</td>\n",
       "      <td>Intersection</td>\n",
       "      <td>3</td>\n",
       "      <td>N</td>\n",
       "      <td>78705</td>\n",
       "      <td>3515 N Lamar Blvd</td>\n",
       "      <td>12786</td>\n",
       "      <td>Other</td>\n",
       "    </tr>\n",
       "  </tbody>\n",
       "</table>\n",
       "</div>"
      ],
      "text/plain": [
       "   ID    Name  Price  Pumps Interior Restaurant CarWash Highway Intersection  \\\n",
       "0   1   Shell   1.79      4        Y          N       N       N            Y   \n",
       "1   2  Valero   1.83      4        Y          N       N       N            Y   \n",
       "\n",
       "  Stoplight IntersectionStoplight  Gasolines Competitors  Zipcode  \\\n",
       "0         N          Intersection          3           N    78705   \n",
       "1         N          Intersection          3           N    78705   \n",
       "\n",
       "             Address  Income  Brand  \n",
       "0  3201 N Lamar Blvd   12786  Shell  \n",
       "1  3515 N Lamar Blvd   12786  Other  "
      ]
     },
     "execution_count": 109,
     "metadata": {},
     "output_type": "execute_result"
    }
   ],
   "source": [
    "print(Gas_data.shape)\n",
    "Gas_data.head(2)"
   ]
  },
  {
   "cell_type": "code",
   "execution_count": 110,
   "metadata": {},
   "outputs": [
    {
     "data": {
      "text/html": [
       "<div>\n",
       "<style scoped>\n",
       "    .dataframe tbody tr th:only-of-type {\n",
       "        vertical-align: middle;\n",
       "    }\n",
       "\n",
       "    .dataframe tbody tr th {\n",
       "        vertical-align: top;\n",
       "    }\n",
       "\n",
       "    .dataframe thead th {\n",
       "        text-align: right;\n",
       "    }\n",
       "</style>\n",
       "<table border=\"1\" class=\"dataframe\">\n",
       "  <thead>\n",
       "    <tr style=\"text-align: right;\">\n",
       "      <th></th>\n",
       "      <th>Price</th>\n",
       "      <th>Pumps</th>\n",
       "      <th>Gasolines</th>\n",
       "      <th>Income</th>\n",
       "    </tr>\n",
       "  </thead>\n",
       "  <tbody>\n",
       "    <tr>\n",
       "      <th>count</th>\n",
       "      <td>101.000000</td>\n",
       "      <td>101.000000</td>\n",
       "      <td>101.000000</td>\n",
       "      <td>101.000000</td>\n",
       "    </tr>\n",
       "    <tr>\n",
       "      <th>mean</th>\n",
       "      <td>1.864257</td>\n",
       "      <td>6.950495</td>\n",
       "      <td>3.465347</td>\n",
       "      <td>56727.217822</td>\n",
       "    </tr>\n",
       "    <tr>\n",
       "      <th>std</th>\n",
       "      <td>0.081515</td>\n",
       "      <td>3.925242</td>\n",
       "      <td>0.557931</td>\n",
       "      <td>25868.359804</td>\n",
       "    </tr>\n",
       "    <tr>\n",
       "      <th>min</th>\n",
       "      <td>1.730000</td>\n",
       "      <td>2.000000</td>\n",
       "      <td>1.000000</td>\n",
       "      <td>12786.000000</td>\n",
       "    </tr>\n",
       "    <tr>\n",
       "      <th>25%</th>\n",
       "      <td>1.790000</td>\n",
       "      <td>4.000000</td>\n",
       "      <td>3.000000</td>\n",
       "      <td>37690.000000</td>\n",
       "    </tr>\n",
       "    <tr>\n",
       "      <th>50%</th>\n",
       "      <td>1.850000</td>\n",
       "      <td>6.000000</td>\n",
       "      <td>3.000000</td>\n",
       "      <td>52306.000000</td>\n",
       "    </tr>\n",
       "    <tr>\n",
       "      <th>75%</th>\n",
       "      <td>1.920000</td>\n",
       "      <td>8.000000</td>\n",
       "      <td>4.000000</td>\n",
       "      <td>70095.000000</td>\n",
       "    </tr>\n",
       "    <tr>\n",
       "      <th>max</th>\n",
       "      <td>2.090000</td>\n",
       "      <td>24.000000</td>\n",
       "      <td>4.000000</td>\n",
       "      <td>128556.000000</td>\n",
       "    </tr>\n",
       "  </tbody>\n",
       "</table>\n",
       "</div>"
      ],
      "text/plain": [
       "            Price       Pumps   Gasolines         Income\n",
       "count  101.000000  101.000000  101.000000     101.000000\n",
       "mean     1.864257    6.950495    3.465347   56727.217822\n",
       "std      0.081515    3.925242    0.557931   25868.359804\n",
       "min      1.730000    2.000000    1.000000   12786.000000\n",
       "25%      1.790000    4.000000    3.000000   37690.000000\n",
       "50%      1.850000    6.000000    3.000000   52306.000000\n",
       "75%      1.920000    8.000000    4.000000   70095.000000\n",
       "max      2.090000   24.000000    4.000000  128556.000000"
      ]
     },
     "execution_count": 110,
     "metadata": {},
     "output_type": "execute_result"
    }
   ],
   "source": [
    "summary=Gas_data.describe(include=[np.number])\n",
    "summary[['Price','Pumps','Gasolines','Income']]"
   ]
  },
  {
   "cell_type": "code",
   "execution_count": 111,
   "metadata": {},
   "outputs": [
    {
     "data": {
      "text/html": [
       "<div>\n",
       "<style scoped>\n",
       "    .dataframe tbody tr th:only-of-type {\n",
       "        vertical-align: middle;\n",
       "    }\n",
       "\n",
       "    .dataframe tbody tr th {\n",
       "        vertical-align: top;\n",
       "    }\n",
       "\n",
       "    .dataframe thead th {\n",
       "        text-align: right;\n",
       "    }\n",
       "</style>\n",
       "<table border=\"1\" class=\"dataframe\">\n",
       "  <thead>\n",
       "    <tr style=\"text-align: right;\">\n",
       "      <th></th>\n",
       "      <th>Price</th>\n",
       "      <th>Pumps</th>\n",
       "      <th>Income</th>\n",
       "    </tr>\n",
       "    <tr>\n",
       "      <th>Name</th>\n",
       "      <th></th>\n",
       "      <th></th>\n",
       "      <th></th>\n",
       "    </tr>\n",
       "  </thead>\n",
       "  <tbody>\n",
       "    <tr>\n",
       "      <th>7-Eleven</th>\n",
       "      <td>1.887778</td>\n",
       "      <td>4.666667</td>\n",
       "      <td>53432.333333</td>\n",
       "    </tr>\n",
       "    <tr>\n",
       "      <th>Around the Corner Store</th>\n",
       "      <td>1.940000</td>\n",
       "      <td>2.000000</td>\n",
       "      <td>63750.000000</td>\n",
       "    </tr>\n",
       "    <tr>\n",
       "      <th>Chevron</th>\n",
       "      <td>1.871818</td>\n",
       "      <td>8.727273</td>\n",
       "      <td>61754.636364</td>\n",
       "    </tr>\n",
       "    <tr>\n",
       "      <th>Citgo</th>\n",
       "      <td>1.835000</td>\n",
       "      <td>4.000000</td>\n",
       "      <td>49387.000000</td>\n",
       "    </tr>\n",
       "    <tr>\n",
       "      <th>Conoco</th>\n",
       "      <td>1.890000</td>\n",
       "      <td>4.000000</td>\n",
       "      <td>43545.500000</td>\n",
       "    </tr>\n",
       "    <tr>\n",
       "      <th>Costco</th>\n",
       "      <td>1.730000</td>\n",
       "      <td>12.000000</td>\n",
       "      <td>70095.000000</td>\n",
       "    </tr>\n",
       "    <tr>\n",
       "      <th>Double R Grocery</th>\n",
       "      <td>1.790000</td>\n",
       "      <td>4.000000</td>\n",
       "      <td>37690.000000</td>\n",
       "    </tr>\n",
       "    <tr>\n",
       "      <th>East 1st Grocery</th>\n",
       "      <td>1.770000</td>\n",
       "      <td>4.000000</td>\n",
       "      <td>37690.000000</td>\n",
       "    </tr>\n",
       "    <tr>\n",
       "      <th>Exxon</th>\n",
       "      <td>1.855000</td>\n",
       "      <td>11.500000</td>\n",
       "      <td>52344.333333</td>\n",
       "    </tr>\n",
       "    <tr>\n",
       "      <th>Gulf</th>\n",
       "      <td>1.788571</td>\n",
       "      <td>5.714286</td>\n",
       "      <td>50084.142857</td>\n",
       "    </tr>\n",
       "    <tr>\n",
       "      <th>HEB Fuel</th>\n",
       "      <td>1.790000</td>\n",
       "      <td>11.000000</td>\n",
       "      <td>36903.500000</td>\n",
       "    </tr>\n",
       "    <tr>\n",
       "      <th>Kool Corner</th>\n",
       "      <td>1.790000</td>\n",
       "      <td>4.000000</td>\n",
       "      <td>42615.000000</td>\n",
       "    </tr>\n",
       "    <tr>\n",
       "      <th>Lamar Corner Store</th>\n",
       "      <td>1.890000</td>\n",
       "      <td>2.000000</td>\n",
       "      <td>37396.000000</td>\n",
       "    </tr>\n",
       "    <tr>\n",
       "      <th>Major Brand Gas</th>\n",
       "      <td>1.790000</td>\n",
       "      <td>4.000000</td>\n",
       "      <td>60856.000000</td>\n",
       "    </tr>\n",
       "    <tr>\n",
       "      <th>Mobil</th>\n",
       "      <td>1.865000</td>\n",
       "      <td>12.000000</td>\n",
       "      <td>47460.500000</td>\n",
       "    </tr>\n",
       "    <tr>\n",
       "      <th>Phillips 66</th>\n",
       "      <td>1.890000</td>\n",
       "      <td>7.000000</td>\n",
       "      <td>59796.500000</td>\n",
       "    </tr>\n",
       "    <tr>\n",
       "      <th>Shell</th>\n",
       "      <td>1.883793</td>\n",
       "      <td>6.482759</td>\n",
       "      <td>62972.793103</td>\n",
       "    </tr>\n",
       "    <tr>\n",
       "      <th>Signature Fuels</th>\n",
       "      <td>1.795000</td>\n",
       "      <td>5.000000</td>\n",
       "      <td>61200.500000</td>\n",
       "    </tr>\n",
       "    <tr>\n",
       "      <th>Texaco</th>\n",
       "      <td>1.912000</td>\n",
       "      <td>5.600000</td>\n",
       "      <td>75105.800000</td>\n",
       "    </tr>\n",
       "    <tr>\n",
       "      <th>Valero</th>\n",
       "      <td>1.891429</td>\n",
       "      <td>6.285714</td>\n",
       "      <td>49049.000000</td>\n",
       "    </tr>\n",
       "  </tbody>\n",
       "</table>\n",
       "</div>"
      ],
      "text/plain": [
       "                            Price      Pumps        Income\n",
       "Name                                                      \n",
       "7-Eleven                 1.887778   4.666667  53432.333333\n",
       "Around the Corner Store  1.940000   2.000000  63750.000000\n",
       "Chevron                  1.871818   8.727273  61754.636364\n",
       "Citgo                    1.835000   4.000000  49387.000000\n",
       "Conoco                   1.890000   4.000000  43545.500000\n",
       "Costco                   1.730000  12.000000  70095.000000\n",
       "Double R Grocery         1.790000   4.000000  37690.000000\n",
       "East 1st Grocery         1.770000   4.000000  37690.000000\n",
       "Exxon                    1.855000  11.500000  52344.333333\n",
       "Gulf                     1.788571   5.714286  50084.142857\n",
       "HEB Fuel                 1.790000  11.000000  36903.500000\n",
       "Kool Corner              1.790000   4.000000  42615.000000\n",
       "Lamar Corner Store       1.890000   2.000000  37396.000000\n",
       "Major Brand Gas          1.790000   4.000000  60856.000000\n",
       "Mobil                    1.865000  12.000000  47460.500000\n",
       "Phillips 66              1.890000   7.000000  59796.500000\n",
       "Shell                    1.883793   6.482759  62972.793103\n",
       "Signature Fuels          1.795000   5.000000  61200.500000\n",
       "Texaco                   1.912000   5.600000  75105.800000\n",
       "Valero                   1.891429   6.285714  49049.000000"
      ]
     },
     "execution_count": 111,
     "metadata": {},
     "output_type": "execute_result"
    }
   ],
   "source": [
    "group_by_name = Gas_data.groupby(by=['Name'])\n",
    "Gas_data_avg = group_by_name.mean()\n",
    "Gas_data_avg[['Price','Pumps','Income']]"
   ]
  },
  {
   "cell_type": "code",
   "execution_count": 112,
   "metadata": {},
   "outputs": [
    {
     "data": {
      "image/png": "[encoded data removed]",
      "text/plain": [
       "<Figure size 720x504 with 1 Axes>"
      ]
     },
     "metadata": {},
     "output_type": "display_data"
    }
   ],
   "source": [
    "Gas_data[['Price','Pumps','Gasolines']].boxplot(figsize=(10,7))\n",
    "plt.show()"
   ]
  },
  {
   "cell_type": "code",
   "execution_count": 192,
   "metadata": {},
   "outputs": [],
   "source": [
    "def mean(values):\n",
    "    return sum(values) / float(len(values))\n",
    "# Calculate covariance between x and y\n",
    "def covariance(x, mean_x, y, mean_y):\n",
    "    covar = 0.0\n",
    "    for i in range(len(x)):\n",
    "        covar += (x[i] - mean_x) * (y[i] - mean_y)\n",
    "    return covar\n",
    "# Calculate the variance of a list of numbers\n",
    "def variance(values, mean):\n",
    "    return sum([(x-mean)**2 for x in values])\n",
    "# Calculate coefficients\n",
    "def LEARNSIMPLELINREG(x,y):\n",
    "    x_mean, y_mean = mean(x), mean(y)\n",
    "    b1 = covariance(x, x_mean, y, y_mean) / variance(x, x_mean)\n",
    "    b0 = y_mean - b1 * x_mean\n",
    "    return [b0, b1]\n",
    "# Calculate predictions\n",
    "def PREDICTSIMPLELINREG(x, y, b):     \n",
    "    # predicted response vector \n",
    "    y_pred = b[0] + b[1]*x \n",
    "    return y_pred \n",
    "# plotting\n",
    "def plott(x, y, y_pred,title):\n",
    "    # plotting the points as per dataset on a graph\n",
    "    plt.scatter(x, y, color = \"m\",marker = \"o\", s = 30) \n",
    "    # plotting the regression line\n",
    "    plt.plot(x, y_pred, color = \"g\")\n",
    "    # putting labels for x and y axis\n",
    "    plt.suptitle(title, fontsize=16)\n",
    "    plt.xlabel('Price') \n",
    "    plt.ylabel('Income')   \n",
    "    # function to show plotted graph\n",
    "    plt.show()    \n",
    "def RMSE(y,y_pred):\n",
    "    return np.sqrt(np.mean((y - y_pred)**2))"
   ]
  },
  {
   "cell_type": "code",
   "execution_count": 114,
   "metadata": {},
   "outputs": [
    {
     "data": {
      "image/png": "[encoded data removed]",
      "text/plain": [
       "<Figure size 432x288 with 1 Axes>"
      ]
     },
     "metadata": {},
     "output_type": "display_data"
    }
   ],
   "source": [
    "x1=Gas_data['Price']\n",
    "y1=Gas_data['Income']\n",
    "b1 = LEARNSIMPLELINREG(x1, y1) \n",
    "y_pre1=PREDICTSIMPLELINREG(x1, y1, b1)\n",
    "plott(x1, y1, y_pre1,'Prediction Line before Normalization')"
   ]
  },
  {
   "cell_type": "code",
   "execution_count": 117,
   "metadata": {},
   "outputs": [
    {
     "data": {
      "image/png": "[encoded data removed]",
      "text/plain": [
       "<Figure size 432x288 with 1 Axes>"
      ]
     },
     "metadata": {},
     "output_type": "display_data"
    }
   ],
   "source": [
    "Normalized_y2 = (y1-min(y1))/(max(y1)-min(y1))\n",
    "y2=Normalized_y2\n",
    "x2=x1\n",
    "b2=LEARNSIMPLELINREG(x2, y2) \n",
    "y_pre2=PREDICTSIMPLELINREG(x2, y2, b2)\n",
    "plott(x2, y2, y_pre2,'Prediction Line after Normalization')"
   ]
  },
  {
   "cell_type": "code",
   "execution_count": 118,
   "metadata": {},
   "outputs": [
    {
     "data": {
      "text/html": [
       "<div>\n",
       "<style scoped>\n",
       "    .dataframe tbody tr th:only-of-type {\n",
       "        vertical-align: middle;\n",
       "    }\n",
       "\n",
       "    .dataframe tbody tr th {\n",
       "        vertical-align: top;\n",
       "    }\n",
       "\n",
       "    .dataframe thead th {\n",
       "        text-align: right;\n",
       "    }\n",
       "</style>\n",
       "<table border=\"1\" class=\"dataframe\">\n",
       "  <thead>\n",
       "    <tr style=\"text-align: right;\">\n",
       "      <th></th>\n",
       "      <th>ID</th>\n",
       "      <th>Name</th>\n",
       "      <th>Price</th>\n",
       "      <th>Pumps</th>\n",
       "      <th>Interior</th>\n",
       "      <th>Restaurant</th>\n",
       "      <th>CarWash</th>\n",
       "      <th>Highway</th>\n",
       "      <th>Intersection</th>\n",
       "      <th>Stoplight</th>\n",
       "      <th>IntersectionStoplight</th>\n",
       "      <th>Gasolines</th>\n",
       "      <th>Competitors</th>\n",
       "      <th>Zipcode</th>\n",
       "      <th>Address</th>\n",
       "      <th>Income</th>\n",
       "      <th>Brand</th>\n",
       "    </tr>\n",
       "  </thead>\n",
       "  <tbody>\n",
       "    <tr>\n",
       "      <th>0</th>\n",
       "      <td>1</td>\n",
       "      <td>Shell</td>\n",
       "      <td>1.79</td>\n",
       "      <td>4</td>\n",
       "      <td>Y</td>\n",
       "      <td>N</td>\n",
       "      <td>N</td>\n",
       "      <td>N</td>\n",
       "      <td>Y</td>\n",
       "      <td>N</td>\n",
       "      <td>Intersection</td>\n",
       "      <td>3</td>\n",
       "      <td>N</td>\n",
       "      <td>78705</td>\n",
       "      <td>3201 N Lamar Blvd</td>\n",
       "      <td>12786</td>\n",
       "      <td>Shell</td>\n",
       "    </tr>\n",
       "    <tr>\n",
       "      <th>1</th>\n",
       "      <td>2</td>\n",
       "      <td>Valero</td>\n",
       "      <td>1.83</td>\n",
       "      <td>4</td>\n",
       "      <td>Y</td>\n",
       "      <td>N</td>\n",
       "      <td>N</td>\n",
       "      <td>N</td>\n",
       "      <td>Y</td>\n",
       "      <td>N</td>\n",
       "      <td>Intersection</td>\n",
       "      <td>3</td>\n",
       "      <td>N</td>\n",
       "      <td>78705</td>\n",
       "      <td>3515 N Lamar Blvd</td>\n",
       "      <td>12786</td>\n",
       "      <td>Other</td>\n",
       "    </tr>\n",
       "  </tbody>\n",
       "</table>\n",
       "</div>"
      ],
      "text/plain": [
       "   ID    Name  Price  Pumps Interior Restaurant CarWash Highway Intersection  \\\n",
       "0   1   Shell   1.79      4        Y          N       N       N            Y   \n",
       "1   2  Valero   1.83      4        Y          N       N       N            Y   \n",
       "\n",
       "  Stoplight IntersectionStoplight  Gasolines Competitors  Zipcode  \\\n",
       "0         N          Intersection          3           N    78705   \n",
       "1         N          Intersection          3           N    78705   \n",
       "\n",
       "             Address  Income  Brand  \n",
       "0  3201 N Lamar Blvd   12786  Shell  \n",
       "1  3515 N Lamar Blvd   12786  Other  "
      ]
     },
     "execution_count": 118,
     "metadata": {},
     "output_type": "execute_result"
    }
   ],
   "source": [
    "Xdata = Gas_data\n",
    "Ydata = Gas_data['Income']\n",
    "Xdata.head(2)"
   ]
  },
  {
   "cell_type": "code",
   "execution_count": 119,
   "metadata": {},
   "outputs": [
    {
     "data": {
      "text/html": [
       "<div>\n",
       "<style scoped>\n",
       "    .dataframe tbody tr th:only-of-type {\n",
       "        vertical-align: middle;\n",
       "    }\n",
       "\n",
       "    .dataframe tbody tr th {\n",
       "        vertical-align: top;\n",
       "    }\n",
       "\n",
       "    .dataframe thead th {\n",
       "        text-align: right;\n",
       "    }\n",
       "</style>\n",
       "<table border=\"1\" class=\"dataframe\">\n",
       "  <thead>\n",
       "    <tr style=\"text-align: right;\">\n",
       "      <th></th>\n",
       "      <th>Price</th>\n",
       "      <th>Pumps</th>\n",
       "      <th>Gasolines</th>\n",
       "    </tr>\n",
       "  </thead>\n",
       "  <tbody>\n",
       "    <tr>\n",
       "      <th>0</th>\n",
       "      <td>1.79</td>\n",
       "      <td>4</td>\n",
       "      <td>3</td>\n",
       "    </tr>\n",
       "    <tr>\n",
       "      <th>1</th>\n",
       "      <td>1.83</td>\n",
       "      <td>4</td>\n",
       "      <td>3</td>\n",
       "    </tr>\n",
       "  </tbody>\n",
       "</table>\n",
       "</div>"
      ],
      "text/plain": [
       "   Price  Pumps  Gasolines\n",
       "0   1.79      4          3\n",
       "1   1.83      4          3"
      ]
     },
     "execution_count": 119,
     "metadata": {},
     "output_type": "execute_result"
    }
   ],
   "source": [
    "Xdata=Xdata[['Price','Pumps','Gasolines']]\n",
    "Xdata.head(2)"
   ]
  },
  {
   "cell_type": "code",
   "execution_count": 120,
   "metadata": {},
   "outputs": [
    {
     "data": {
      "text/plain": [
       "0       12786\n",
       "1       12786\n",
       "2       41279\n",
       "3       41279\n",
       "4       41279\n",
       "5       37396\n",
       "6       37396\n",
       "7       37396\n",
       "8       37396\n",
       "9       41279\n",
       "10      12786\n",
       "11      12786\n",
       "12      12786\n",
       "13      87306\n",
       "14      37690\n",
       "16      54526\n",
       "17      42615\n",
       "19      54526\n",
       "20      54526\n",
       "21      37690\n",
       "22      37690\n",
       "23      36698\n",
       "24      37690\n",
       "26      36698\n",
       "27      42615\n",
       "28      42615\n",
       "30      42615\n",
       "31      42615\n",
       "32      42615\n",
       "33      41279\n",
       "        ...  \n",
       "64      79315\n",
       "66     128556\n",
       "67     128556\n",
       "68     128556\n",
       "69     128556\n",
       "70     128556\n",
       "71      52306\n",
       "73      52306\n",
       "76      52306\n",
       "77      52306\n",
       "78      81903\n",
       "79      81903\n",
       "80      81903\n",
       "82      81903\n",
       "83      63750\n",
       "84      63750\n",
       "85      63750\n",
       "86      63750\n",
       "88      79315\n",
       "89      79315\n",
       "90      79315\n",
       "91      70095\n",
       "92      70095\n",
       "93      70095\n",
       "94      70095\n",
       "95      70095\n",
       "96      70095\n",
       "97      44476\n",
       "99      44476\n",
       "100     81903\n",
       "Name: Income, Length: 82, dtype: int64"
      ]
     },
     "execution_count": 120,
     "metadata": {},
     "output_type": "execute_result"
    }
   ],
   "source": [
    "msk = np.random.rand(len(Xdata))<0.8\n",
    "Xtrain = Xdata[msk]\n",
    "Ytrain = Ydata[msk]\n",
    "Ytrain"
   ]
  },
  {
   "cell_type": "code",
   "execution_count": 121,
   "metadata": {},
   "outputs": [
    {
     "data": {
      "text/plain": [
       "15     54526\n",
       "18     42615\n",
       "25     36698\n",
       "29     42615\n",
       "36     41279\n",
       "44     31192\n",
       "45     31192\n",
       "49     31192\n",
       "50     52306\n",
       "56     60856\n",
       "59     60856\n",
       "60     60856\n",
       "65    128556\n",
       "72     52306\n",
       "74     52306\n",
       "75     52306\n",
       "81     81903\n",
       "87     79315\n",
       "98     44476\n",
       "Name: Income, dtype: int64"
      ]
     },
     "execution_count": 121,
     "metadata": {},
     "output_type": "execute_result"
    }
   ],
   "source": [
    "Xtest = Xdata[~msk]\n",
    "Ytest = Ydata[~msk]\n",
    "Ytest"
   ]
  },
  {
   "cell_type": "code",
   "execution_count": 269,
   "metadata": {},
   "outputs": [],
   "source": [
    "from numpy.linalg import inv\n",
    "def learn_linreg_NormEq(X, y):\n",
    "    #print(\"inside\")\n",
    "    X_transpose = X.T  \n",
    "    best_params = inv(X_transpose.dot(X)).dot(X_transpose).dot(y)  \n",
    "    # normal equation\n",
    "    # predictedY = beta[0] + beta[1]*Xtest['Price']+ beta[2]*Xtest['Pumps']+beta[3]*Xtest['Gasolines']\n",
    "    # theta_best = (X.T * X)^(-1) * X.T * y  \n",
    "    return best_params # returns a list  "
   ]
  },
  {
   "cell_type": "code",
   "execution_count": 268,
   "metadata": {},
   "outputs": [],
   "source": [
    "params=learn_linreg_NormEq(Xtrain,Ytrain)\n",
    "#print(params)\n",
    "# test prediction   \n",
    "y_prediction = Xtest.dot(params)  \n",
    "# y = h_Theta_X(Theta) = Theta.T * X  \n",
    "#print(y_prediction.shape) \n",
    "residual=np.abs(y_prediction-Ytest)\n",
    "#print(\"The Predictions of Xtest are\",y_prediction)\n",
    "#print(\"The average error of generic model is \",np.mean(residual))"
   ]
  },
  {
   "cell_type": "code",
   "execution_count": 251,
   "metadata": {},
   "outputs": [
    {
     "data": {
      "text/plain": [
       "Text(0.5,1,'Test values of Y')"
      ]
     },
     "execution_count": 251,
     "metadata": {},
     "output_type": "execute_result"
    },
    {
     "data": {
      "image/png": "[encoded data removed]",
      "text/plain": [
       "<Figure size 432x288 with 1 Axes>"
      ]
     },
     "metadata": {},
     "output_type": "display_data"
    }
   ],
   "source": [
    "plt.plot(Ytest)\n",
    "plt.title(\"Test values of Y\")"
   ]
  },
  {
   "cell_type": "code",
   "execution_count": 252,
   "metadata": {},
   "outputs": [
    {
     "name": "stdout",
     "output_type": "stream",
     "text": [
      "The Predictions of Matrix decomposition are 15    9.691335e+06\n",
      "18    1.456849e+07\n",
      "25    1.180864e+07\n",
      "29    9.307275e+06\n",
      "36    1.227666e+07\n",
      "44    9.943200e+06\n",
      "45    1.185097e+07\n",
      "49    9.307275e+06\n",
      "50    1.099890e+07\n",
      "56    1.096283e+07\n",
      "59    9.727050e+06\n",
      "60    1.117272e+07\n",
      "65    1.159249e+07\n",
      "72    1.006878e+07\n",
      "74    1.477838e+07\n",
      "75    9.475185e+06\n",
      "81    1.146656e+07\n",
      "87    1.078275e+07\n",
      "98    1.095657e+07\n",
      "dtype: float64\n",
      "The average error of Matrix decomposition is  11036774.090821216\n"
     ]
    },
    {
     "data": {
      "image/png": "[encoded data removed]",
      "text/plain": [
       "<Figure size 432x288 with 1 Axes>"
      ]
     },
     "metadata": {},
     "output_type": "display_data"
    }
   ],
   "source": [
    "import scipy.linalg as la\n",
    "A=Xtrain\n",
    "P, L, U = la.lu(A)\n",
    "#print(P.shape)\n",
    "#print(L.shape)\n",
    "#print(U.shape)\n",
    "#print(Ytrain.shape)\n",
    "params1=L.T.dot(Ytrain)\n",
    "#print(params1)\n",
    "y_prediction1 = Xtest.dot(params1)\n",
    "error1=np.abs(y_prediction1 - Ytest)\n",
    "print(\"The Predictions of Matrix decomposition are\",y_prediction1)\n",
    "print(\"The average error of Matrix decomposition is \",np.mean(error1))\n",
    "plt.plot(error1)\n",
    "plt.title(\"Residual for Matrix decomposition\")\n",
    "plt.show()"
   ]
  },
  {
   "cell_type": "code",
   "execution_count": 266,
   "metadata": {},
   "outputs": [
    {
     "name": "stdout",
     "output_type": "stream",
     "text": [
      "The Predictions of Cholesky are 15    1.541759e+07\n",
      "18    3.198744e+07\n",
      "25    2.262845e+07\n",
      "29    1.352564e+07\n",
      "36    2.451033e+07\n",
      "44    1.538736e+07\n",
      "45    2.097252e+07\n",
      "49    1.352564e+07\n",
      "50    1.719869e+07\n",
      "56    2.079193e+07\n",
      "59    1.347525e+07\n",
      "60    2.076673e+07\n",
      "65    2.071635e+07\n",
      "72    1.702314e+07\n",
      "74    3.196225e+07\n",
      "75    1.350549e+07\n",
      "81    2.073146e+07\n",
      "87    1.528659e+07\n",
      "98    1.885463e+07\n",
      "dtype: float64\n",
      "The average error of Cholesky is  19327901.28860306\n"
     ]
    },
    {
     "data": {
      "image/png": "[encoded data removed]",
      "text/plain": [
       "<Figure size 432x288 with 1 Axes>"
      ]
     },
     "metadata": {},
     "output_type": "display_data"
    }
   ],
   "source": [
    "A=np.dot(Xtrain.T, Xtrain)\n",
    "L = la.cholesky(A)\n",
    "b = np.dot(Xtrain.T, Ytrain)\n",
    "y=la.lstsq(L,b)[0]\n",
    "params2=la.lstsq (L.T,y)\n",
    "y_prediction3 = Xtest.dot(params2[0])\n",
    "error3=np.abs(y_prediction3 - Ytest)\n",
    "print(\"The Predictions of Cholesky are\",y_prediction3)\n",
    "print(\"The average error of Cholesky is \",np.mean(error3))\n",
    "plt.plot(error3)\n",
    "plt.title(\"Residual for Cholesky decomposition\")\n",
    "plt.show()"
   ]
  },
  {
   "cell_type": "code",
   "execution_count": 253,
   "metadata": {},
   "outputs": [
    {
     "name": "stdout",
     "output_type": "stream",
     "text": [
      "The predictions of QR is  15   -2.941478e+06\n",
      "18   -7.878939e+06\n",
      "25   -4.510065e+06\n",
      "29   -2.276344e+06\n",
      "36   -5.179520e+06\n",
      "44   -2.954438e+06\n",
      "45   -4.988723e+06\n",
      "49   -2.276344e+06\n",
      "50   -3.654133e+06\n",
      "56   -3.821170e+06\n",
      "59   -2.297944e+06\n",
      "60   -3.831970e+06\n",
      "65   -3.853571e+06\n",
      "72   -2.484421e+06\n",
      "74   -7.889739e+06\n",
      "75   -2.284984e+06\n",
      "81   -3.847091e+06\n",
      "87   -2.997639e+06\n",
      "98   -3.175476e+06\n",
      "dtype: float64\n",
      "The average error of QR is  3904281.001148893\n"
     ]
    },
    {
     "data": {
      "image/png": "[encoded data removed]",
      "text/plain": [
       "<Figure size 432x288 with 1 Axes>"
      ]
     },
     "metadata": {},
     "output_type": "display_data"
    }
   ],
   "source": [
    "from numpy.linalg import qr\n",
    "Q, R = qr(A, 'complete')\n",
    "#print(Q.shape)\n",
    "#print(R.shape)\n",
    "params2=R.T.dot(Ytrain)\n",
    "#print(params2)\n",
    "y_prediction2 = Xtest.dot(params2)\n",
    "error2=np.abs(y_prediction2 - Ytest)\n",
    "print(\"The predictions of QR is \", y_prediction2)\n",
    "print(\"The average error of QR is \",np.mean(error2))\n",
    "plt.plot(error2)\n",
    "plt.title(\"Residual for QR decomposition\")\n",
    "plt.show()"
   ]
  },
  {
   "cell_type": "code",
   "execution_count": 267,
   "metadata": {},
   "outputs": [
    {
     "name": "stdout",
     "output_type": "stream",
     "text": [
      "The RMSE of Cholesky model is  20077352.96129315\n",
      "The RMSE of Gaussian Matrix Decomposition 11140783.175918583\n",
      "The RMSE of QR Decomposition 4230855.170320108\n"
     ]
    }
   ],
   "source": [
    "RMSEGaussian = RMSE(Ytest,y_prediction1)\n",
    "RMSEQR = RMSE(Ytest,y_prediction2)\n",
    "RMSECholesky = RMSE(Ytest,y_prediction3)\n",
    "print(\"The RMSE of Cholesky model is \",RMSECholesky)\n",
    "print(\"The RMSE of Gaussian Matrix Decomposition\",RMSEGaussian)\n",
    "print(\"The RMSE of QR Decomposition\", RMSEQR)"
   ]
  }
 ],
 "metadata": {
  "kernelspec": {
   "display_name": "Python 3",
   "language": "python",
   "name": "python3"
  },
  "language_info": {
   "codemirror_mode": {
    "name": "ipython",
    "version": 3
   },
   "file_extension": ".py",
   "mimetype": "text/x-python",
   "name": "python",
   "nbconvert_exporter": "python",
   "pygments_lexer": "ipython3",
   "version": "3.5.5"
  }
 },
 "nbformat": 4,
 "nbformat_minor": 2
}
