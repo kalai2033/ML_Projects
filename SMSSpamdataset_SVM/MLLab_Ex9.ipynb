{
 "cells": [
  {
   "cell_type": "code",
   "execution_count": 2,
   "metadata": {},
   "outputs": [
    {
     "name": "stdout",
     "output_type": "stream",
     "text": [
      "3.5.5 |Anaconda custom (64-bit)| (default, Apr  7 2018, 04:52:34) [MSC v.1900 64 bit (AMD64)]\n"
     ]
    }
   ],
   "source": [
    "#python version\n",
    "import sys\n",
    "print(sys.version)"
   ]
  },
  {
   "cell_type": "code",
   "execution_count": 3,
   "metadata": {},
   "outputs": [],
   "source": [
    "#Import Packages\n",
    "import pandas as pd\n",
    "import numpy as np\n",
    "import matplotlib.pyplot as plt\n",
    "from svmutil import *"
   ]
  },
  {
   "cell_type": "code",
   "execution_count": 4,
   "metadata": {},
   "outputs": [],
   "source": [
    "#Split the dataset\n",
    "def split_DataSet(Dataset, size):\n",
    "        msk = np.random.rand(len(Dataset))<size\n",
    "        Data_train = Dataset[msk]\n",
    "        Data_test = Dataset[~msk]\n",
    "        return Data_train,Data_test\n",
    "#Converting to libSVM format \n",
    "def convertTolibSVM(data, path):\n",
    "    n = data.columns.size\n",
    "    for i in range(n-1):\n",
    "        data[i] = str(i+1)+':'+data[i].astype('str')\n",
    "    col = data.columns.tolist()\n",
    "    col = col[-1:] + col[:-1]\n",
    "    new = data[col]\n",
    "    new.to_csv(path+'_formated', sep=' ', header=None, index=None)"
   ]
  },
  {
   "cell_type": "code",
   "execution_count": 5,
   "metadata": {},
   "outputs": [
    {
     "data": {
      "text/html": [
       "<div>\n",
       "<style scoped>\n",
       "    .dataframe tbody tr th:only-of-type {\n",
       "        vertical-align: middle;\n",
       "    }\n",
       "\n",
       "    .dataframe tbody tr th {\n",
       "        vertical-align: top;\n",
       "    }\n",
       "\n",
       "    .dataframe thead th {\n",
       "        text-align: right;\n",
       "    }\n",
       "</style>\n",
       "<table border=\"1\" class=\"dataframe\">\n",
       "  <thead>\n",
       "    <tr style=\"text-align: right;\">\n",
       "      <th></th>\n",
       "      <th>0</th>\n",
       "      <th>1</th>\n",
       "      <th>2</th>\n",
       "      <th>3</th>\n",
       "      <th>4</th>\n",
       "      <th>5</th>\n",
       "      <th>6</th>\n",
       "      <th>7</th>\n",
       "      <th>8</th>\n",
       "      <th>9</th>\n",
       "      <th>...</th>\n",
       "      <th>48</th>\n",
       "      <th>49</th>\n",
       "      <th>50</th>\n",
       "      <th>51</th>\n",
       "      <th>52</th>\n",
       "      <th>53</th>\n",
       "      <th>54</th>\n",
       "      <th>55</th>\n",
       "      <th>56</th>\n",
       "      <th>57</th>\n",
       "    </tr>\n",
       "  </thead>\n",
       "  <tbody>\n",
       "    <tr>\n",
       "      <th>0</th>\n",
       "      <td>0.00</td>\n",
       "      <td>0.64</td>\n",
       "      <td>0.64</td>\n",
       "      <td>0.0</td>\n",
       "      <td>0.32</td>\n",
       "      <td>0.00</td>\n",
       "      <td>0.00</td>\n",
       "      <td>0.00</td>\n",
       "      <td>0.00</td>\n",
       "      <td>0.00</td>\n",
       "      <td>...</td>\n",
       "      <td>0.00</td>\n",
       "      <td>0.000</td>\n",
       "      <td>0.0</td>\n",
       "      <td>0.778</td>\n",
       "      <td>0.000</td>\n",
       "      <td>0.000</td>\n",
       "      <td>3.756</td>\n",
       "      <td>61</td>\n",
       "      <td>278</td>\n",
       "      <td>1</td>\n",
       "    </tr>\n",
       "    <tr>\n",
       "      <th>1</th>\n",
       "      <td>0.21</td>\n",
       "      <td>0.28</td>\n",
       "      <td>0.50</td>\n",
       "      <td>0.0</td>\n",
       "      <td>0.14</td>\n",
       "      <td>0.28</td>\n",
       "      <td>0.21</td>\n",
       "      <td>0.07</td>\n",
       "      <td>0.00</td>\n",
       "      <td>0.94</td>\n",
       "      <td>...</td>\n",
       "      <td>0.00</td>\n",
       "      <td>0.132</td>\n",
       "      <td>0.0</td>\n",
       "      <td>0.372</td>\n",
       "      <td>0.180</td>\n",
       "      <td>0.048</td>\n",
       "      <td>5.114</td>\n",
       "      <td>101</td>\n",
       "      <td>1028</td>\n",
       "      <td>1</td>\n",
       "    </tr>\n",
       "    <tr>\n",
       "      <th>2</th>\n",
       "      <td>0.06</td>\n",
       "      <td>0.00</td>\n",
       "      <td>0.71</td>\n",
       "      <td>0.0</td>\n",
       "      <td>1.23</td>\n",
       "      <td>0.19</td>\n",
       "      <td>0.19</td>\n",
       "      <td>0.12</td>\n",
       "      <td>0.64</td>\n",
       "      <td>0.25</td>\n",
       "      <td>...</td>\n",
       "      <td>0.01</td>\n",
       "      <td>0.143</td>\n",
       "      <td>0.0</td>\n",
       "      <td>0.276</td>\n",
       "      <td>0.184</td>\n",
       "      <td>0.010</td>\n",
       "      <td>9.821</td>\n",
       "      <td>485</td>\n",
       "      <td>2259</td>\n",
       "      <td>1</td>\n",
       "    </tr>\n",
       "    <tr>\n",
       "      <th>3</th>\n",
       "      <td>0.00</td>\n",
       "      <td>0.00</td>\n",
       "      <td>0.00</td>\n",
       "      <td>0.0</td>\n",
       "      <td>0.63</td>\n",
       "      <td>0.00</td>\n",
       "      <td>0.31</td>\n",
       "      <td>0.63</td>\n",
       "      <td>0.31</td>\n",
       "      <td>0.63</td>\n",
       "      <td>...</td>\n",
       "      <td>0.00</td>\n",
       "      <td>0.137</td>\n",
       "      <td>0.0</td>\n",
       "      <td>0.137</td>\n",
       "      <td>0.000</td>\n",
       "      <td>0.000</td>\n",
       "      <td>3.537</td>\n",
       "      <td>40</td>\n",
       "      <td>191</td>\n",
       "      <td>1</td>\n",
       "    </tr>\n",
       "    <tr>\n",
       "      <th>4</th>\n",
       "      <td>0.00</td>\n",
       "      <td>0.00</td>\n",
       "      <td>0.00</td>\n",
       "      <td>0.0</td>\n",
       "      <td>0.63</td>\n",
       "      <td>0.00</td>\n",
       "      <td>0.31</td>\n",
       "      <td>0.63</td>\n",
       "      <td>0.31</td>\n",
       "      <td>0.63</td>\n",
       "      <td>...</td>\n",
       "      <td>0.00</td>\n",
       "      <td>0.135</td>\n",
       "      <td>0.0</td>\n",
       "      <td>0.135</td>\n",
       "      <td>0.000</td>\n",
       "      <td>0.000</td>\n",
       "      <td>3.537</td>\n",
       "      <td>40</td>\n",
       "      <td>191</td>\n",
       "      <td>1</td>\n",
       "    </tr>\n",
       "  </tbody>\n",
       "</table>\n",
       "<p>5 rows × 58 columns</p>\n",
       "</div>"
      ],
      "text/plain": [
       "     0     1     2    3     4     5     6     7     8     9  ...    48     49  \\\n",
       "0  0.00  0.64  0.64  0.0  0.32  0.00  0.00  0.00  0.00  0.00 ...  0.00  0.000   \n",
       "1  0.21  0.28  0.50  0.0  0.14  0.28  0.21  0.07  0.00  0.94 ...  0.00  0.132   \n",
       "2  0.06  0.00  0.71  0.0  1.23  0.19  0.19  0.12  0.64  0.25 ...  0.01  0.143   \n",
       "3  0.00  0.00  0.00  0.0  0.63  0.00  0.31  0.63  0.31  0.63 ...  0.00  0.137   \n",
       "4  0.00  0.00  0.00  0.0  0.63  0.00  0.31  0.63  0.31  0.63 ...  0.00  0.135   \n",
       "\n",
       "    50     51     52     53     54   55    56  57  \n",
       "0  0.0  0.778  0.000  0.000  3.756   61   278   1  \n",
       "1  0.0  0.372  0.180  0.048  5.114  101  1028   1  \n",
       "2  0.0  0.276  0.184  0.010  9.821  485  2259   1  \n",
       "3  0.0  0.137  0.000  0.000  3.537   40   191   1  \n",
       "4  0.0  0.135  0.000  0.000  3.537   40   191   1  \n",
       "\n",
       "[5 rows x 58 columns]"
      ]
     },
     "execution_count": 5,
     "metadata": {},
     "output_type": "execute_result"
    }
   ],
   "source": [
    "#Loading Spambase data\n",
    "spam_data = pd.read_csv(\"spambase.data\", header = None)\n",
    "spam_data.head()"
   ]
  },
  {
   "cell_type": "code",
   "execution_count": 109,
   "metadata": {},
   "outputs": [
    {
     "data": {
      "text/plain": [
       "(3222, 58)"
      ]
     },
     "execution_count": 109,
     "metadata": {},
     "output_type": "execute_result"
    }
   ],
   "source": [
    "trainSet, testSet = split_DataSet(spam_data, 0.7)\n",
    "trainSet.shape"
   ]
  },
  {
   "cell_type": "code",
   "execution_count": 113,
   "metadata": {},
   "outputs": [
    {
     "name": "stderr",
     "output_type": "stream",
     "text": [
      "C:\\Users\\HP\\Anaconda\\lib\\site-packages\\ipykernel_launcher.py:13: SettingWithCopyWarning: \n",
      "A value is trying to be set on a copy of a slice from a DataFrame.\n",
      "Try using .loc[row_indexer,col_indexer] = value instead\n",
      "\n",
      "See the caveats in the documentation: http://pandas.pydata.org/pandas-docs/stable/indexing.html#indexing-view-versus-copy\n",
      "  del sys.path[0]\n"
     ]
    }
   ],
   "source": [
    "#Converting to libSVM format\n",
    "convertTolibSVM(trainSet, \"libSVMProcessed/trainSet\")\n",
    "convertTolibSVM(testSet, \"libSVMProcessed/testSet\")"
   ]
  },
  {
   "cell_type": "code",
   "execution_count": 114,
   "metadata": {},
   "outputs": [
    {
     "data": {
      "text/plain": [
       "3222"
      ]
     },
     "execution_count": 114,
     "metadata": {},
     "output_type": "execute_result"
    }
   ],
   "source": [
    "df3 = pd.read_csv(\"libSVMProcessed/trainSet_formated\", header = None)\n",
    "df3.size"
   ]
  },
  {
   "cell_type": "code",
   "execution_count": 8,
   "metadata": {},
   "outputs": [],
   "source": [
    "#Loading libSVM formatted data\n",
    "y_TrainData, x_TrainData = svm_read_problem(\"libSVMProcessed/trainSet_formated\")\n",
    "y_TestData, x_TestData = svm_read_problem(\"libSVMProcessed/testSet_formated\")\n",
    "trainData  = svm_problem(y_TrainData, x_TrainData)"
   ]
  },
  {
   "cell_type": "code",
   "execution_count": 12,
   "metadata": {},
   "outputs": [
    {
     "name": "stdout",
     "output_type": "stream",
     "text": [
      "Accuracy = 80.4206% (1109/1379) (classification)\n",
      "Accuracy = 83.3938% (1150/1379) (classification)\n",
      "Accuracy = 84.1914% (1161/1379) (classification)\n",
      "Accuracy = 84.554% (1166/1379) (classification)\n",
      "Accuracy = 84.9166% (1171/1379) (classification)\n",
      "Accuracy = 85.2067% (1175/1379) (classification)\n",
      "Accuracy = 85.3517% (1177/1379) (classification)\n",
      "Accuracy = 85.4967% (1179/1379) (classification)\n",
      "Accuracy = 85.3517% (1177/1379) (classification)\n",
      "Accuracy = 85.3517% (1177/1379) (classification)\n",
      "Accuracy = 85.4967% (1179/1379) (classification)\n",
      "Accuracy = 85.6418% (1181/1379) (classification)\n",
      "Accuracy = 85.5693% (1180/1379) (classification)\n",
      "Accuracy = 85.6418% (1181/1379) (classification)\n",
      "Accuracy = 85.7143% (1182/1379) (classification)\n",
      "Accuracy = 85.7143% (1182/1379) (classification)\n",
      "Accuracy = 85.7143% (1182/1379) (classification)\n",
      "Accuracy = 85.6418% (1181/1379) (classification)\n",
      "Accuracy = 85.4242% (1178/1379) (classification)\n",
      "Accuracy = 85.3517% (1177/1379) (classification)\n",
      "Accuracy = 85.2792% (1176/1379) (classification)\n",
      "Accuracy = 85.2067% (1175/1379) (classification)\n",
      "Accuracy = 85.2067% (1175/1379) (classification)\n",
      "Accuracy = 85.2792% (1176/1379) (classification)\n",
      "Accuracy = 85.2792% (1176/1379) (classification)\n",
      "Accuracy = 85.2067% (1175/1379) (classification)\n",
      "Accuracy = 85.1342% (1174/1379) (classification)\n",
      "Accuracy = 85.0616% (1173/1379) (classification)\n",
      "Accuracy = 85.0616% (1173/1379) (classification)\n",
      "Accuracy = 84.9891% (1172/1379) (classification)\n",
      "Accuracy = 84.9891% (1172/1379) (classification)\n",
      "Accuracy = 84.9166% (1171/1379) (classification)\n",
      "Accuracy = 84.9891% (1172/1379) (classification)\n",
      "Accuracy = 85.0616% (1173/1379) (classification)\n",
      "Accuracy = 85.0616% (1173/1379) (classification)\n",
      "Accuracy = 85.0616% (1173/1379) (classification)\n",
      "Accuracy = 85.0616% (1173/1379) (classification)\n",
      "Accuracy = 84.9891% (1172/1379) (classification)\n",
      "Accuracy = 84.9891% (1172/1379) (classification)\n",
      "Accuracy = 84.9891% (1172/1379) (classification)\n",
      "Accuracy = 84.9166% (1171/1379) (classification)\n",
      "Accuracy = 84.9166% (1171/1379) (classification)\n",
      "Accuracy = 84.9166% (1171/1379) (classification)\n",
      "Accuracy = 84.8441% (1170/1379) (classification)\n",
      "Accuracy = 84.8441% (1170/1379) (classification)\n",
      "Accuracy = 84.8441% (1170/1379) (classification)\n",
      "Accuracy = 84.9166% (1171/1379) (classification)\n",
      "Accuracy = 84.9166% (1171/1379) (classification)\n",
      "Accuracy = 84.9166% (1171/1379) (classification)\n",
      "Accuracy = 84.9891% (1172/1379) (classification)\n",
      "Accuracy = 84.9891% (1172/1379) (classification)\n",
      "Accuracy = 84.9891% (1172/1379) (classification)\n",
      "Accuracy = 84.9891% (1172/1379) (classification)\n",
      "Accuracy = 84.9891% (1172/1379) (classification)\n",
      "Accuracy = 84.9891% (1172/1379) (classification)\n",
      "Accuracy = 84.9166% (1171/1379) (classification)\n",
      "Accuracy = 84.9166% (1171/1379) (classification)\n",
      "Accuracy = 84.9166% (1171/1379) (classification)\n",
      "Accuracy = 84.8441% (1170/1379) (classification)\n",
      "Accuracy = 84.8441% (1170/1379) (classification)\n",
      "Accuracy = 84.8441% (1170/1379) (classification)\n",
      "Accuracy = 84.9166% (1171/1379) (classification)\n",
      "Accuracy = 84.9166% (1171/1379) (classification)\n",
      "Accuracy = 84.9166% (1171/1379) (classification)\n",
      "Accuracy = 84.9166% (1171/1379) (classification)\n",
      "Accuracy = 84.9166% (1171/1379) (classification)\n",
      "Accuracy = 84.9166% (1171/1379) (classification)\n",
      "Accuracy = 84.9166% (1171/1379) (classification)\n",
      "Accuracy = 84.9891% (1172/1379) (classification)\n",
      "Accuracy = 84.9166% (1171/1379) (classification)\n",
      "Accuracy = 84.9166% (1171/1379) (classification)\n",
      "Accuracy = 84.9166% (1171/1379) (classification)\n",
      "Accuracy = 84.9166% (1171/1379) (classification)\n",
      "Accuracy = 84.9166% (1171/1379) (classification)\n",
      "Accuracy = 84.9166% (1171/1379) (classification)\n",
      "Accuracy = 84.9166% (1171/1379) (classification)\n",
      "Accuracy = 84.9166% (1171/1379) (classification)\n",
      "Accuracy = 84.9166% (1171/1379) (classification)\n",
      "Accuracy = 84.9166% (1171/1379) (classification)\n",
      "Accuracy = 84.9166% (1171/1379) (classification)\n",
      "Accuracy = 84.9166% (1171/1379) (classification)\n",
      "Accuracy = 84.9166% (1171/1379) (classification)\n",
      "Accuracy = 84.9166% (1171/1379) (classification)\n",
      "Accuracy = 84.9166% (1171/1379) (classification)\n",
      "Accuracy = 84.9166% (1171/1379) (classification)\n",
      "Accuracy = 84.9166% (1171/1379) (classification)\n",
      "Accuracy = 84.9166% (1171/1379) (classification)\n",
      "Accuracy = 84.9166% (1171/1379) (classification)\n",
      "Accuracy = 84.9166% (1171/1379) (classification)\n",
      "Accuracy = 84.9166% (1171/1379) (classification)\n",
      "Accuracy = 84.8441% (1170/1379) (classification)\n",
      "Accuracy = 84.8441% (1170/1379) (classification)\n",
      "Accuracy = 84.8441% (1170/1379) (classification)\n",
      "Accuracy = 84.8441% (1170/1379) (classification)\n",
      "Accuracy = 84.8441% (1170/1379) (classification)\n",
      "Accuracy = 84.8441% (1170/1379) (classification)\n",
      "Accuracy = 84.7716% (1169/1379) (classification)\n",
      "Accuracy = 84.7716% (1169/1379) (classification)\n",
      "Accuracy = 84.7716% (1169/1379) (classification)\n",
      "Accuracy = 84.6991% (1168/1379) (classification)\n",
      "Accuracy = 84.6991% (1168/1379) (classification)\n",
      "Accuracy = 84.6991% (1168/1379) (classification)\n",
      "Accuracy = 84.6991% (1168/1379) (classification)\n",
      "Accuracy = 84.6991% (1168/1379) (classification)\n",
      "Accuracy = 84.6991% (1168/1379) (classification)\n",
      "Accuracy = 84.6991% (1168/1379) (classification)\n",
      "Accuracy = 84.6991% (1168/1379) (classification)\n",
      "Accuracy = 84.6991% (1168/1379) (classification)\n",
      "Accuracy = 84.6991% (1168/1379) (classification)\n",
      "Accuracy = 84.6991% (1168/1379) (classification)\n",
      "Accuracy = 84.7716% (1169/1379) (classification)\n",
      "Accuracy = 84.6991% (1168/1379) (classification)\n",
      "Accuracy = 84.6991% (1168/1379) (classification)\n",
      "Accuracy = 84.6991% (1168/1379) (classification)\n",
      "Accuracy = 84.6991% (1168/1379) (classification)\n",
      "Accuracy = 84.6991% (1168/1379) (classification)\n",
      "Accuracy = 84.6991% (1168/1379) (classification)\n",
      "Accuracy = 84.6991% (1168/1379) (classification)\n",
      "Accuracy = 84.6991% (1168/1379) (classification)\n",
      "Accuracy = 84.6991% (1168/1379) (classification)\n",
      "Accuracy = 84.6991% (1168/1379) (classification)\n",
      "Accuracy = 84.7716% (1169/1379) (classification)\n",
      "Accuracy = 84.7716% (1169/1379) (classification)\n",
      "Accuracy = 84.6991% (1168/1379) (classification)\n",
      "Accuracy = 84.6991% (1168/1379) (classification)\n",
      "Accuracy = 84.6991% (1168/1379) (classification)\n",
      "Accuracy = 84.6265% (1167/1379) (classification)\n",
      "Accuracy = 84.6265% (1167/1379) (classification)\n",
      "Accuracy = 84.554% (1166/1379) (classification)\n",
      "Accuracy = 84.554% (1166/1379) (classification)\n",
      "Accuracy = 84.554% (1166/1379) (classification)\n",
      "Accuracy = 84.554% (1166/1379) (classification)\n",
      "Accuracy = 84.554% (1166/1379) (classification)\n",
      "Accuracy = 84.554% (1166/1379) (classification)\n",
      "Accuracy = 84.554% (1166/1379) (classification)\n",
      "Accuracy = 84.554% (1166/1379) (classification)\n",
      "Accuracy = 84.554% (1166/1379) (classification)\n",
      "Accuracy = 84.554% (1166/1379) (classification)\n",
      "Accuracy = 84.554% (1166/1379) (classification)\n",
      "Accuracy = 84.554% (1166/1379) (classification)\n",
      "Accuracy = 84.554% (1166/1379) (classification)\n",
      "Accuracy = 84.554% (1166/1379) (classification)\n",
      "Accuracy = 84.554% (1166/1379) (classification)\n",
      "Accuracy = 84.554% (1166/1379) (classification)\n",
      "Accuracy = 84.554% (1166/1379) (classification)\n",
      "Accuracy = 84.554% (1166/1379) (classification)\n",
      "Accuracy = 84.554% (1166/1379) (classification)\n",
      "Accuracy = 84.554% (1166/1379) (classification)\n",
      "Accuracy = 84.554% (1166/1379) (classification)\n",
      "Accuracy = 84.554% (1166/1379) (classification)\n",
      "Accuracy = 84.554% (1166/1379) (classification)\n",
      "Accuracy = 84.554% (1166/1379) (classification)\n",
      "Accuracy = 84.554% (1166/1379) (classification)\n",
      "Accuracy = 84.554% (1166/1379) (classification)\n",
      "Accuracy = 84.554% (1166/1379) (classification)\n",
      "Accuracy = 84.554% (1166/1379) (classification)\n",
      "Accuracy = 84.554% (1166/1379) (classification)\n",
      "Accuracy = 84.554% (1166/1379) (classification)\n",
      "Accuracy = 84.554% (1166/1379) (classification)\n",
      "Accuracy = 84.554% (1166/1379) (classification)\n",
      "Accuracy = 84.4815% (1165/1379) (classification)\n",
      "Accuracy = 84.4815% (1165/1379) (classification)\n",
      "Accuracy = 84.4815% (1165/1379) (classification)\n",
      "Accuracy = 84.4815% (1165/1379) (classification)\n",
      "Accuracy = 84.4815% (1165/1379) (classification)\n",
      "Accuracy = 84.4815% (1165/1379) (classification)\n",
      "Accuracy = 84.4815% (1165/1379) (classification)\n",
      "Accuracy = 84.4815% (1165/1379) (classification)\n"
     ]
    },
    {
     "name": "stdout",
     "output_type": "stream",
     "text": [
      "Accuracy = 84.4815% (1165/1379) (classification)\n",
      "Accuracy = 84.4815% (1165/1379) (classification)\n",
      "Accuracy = 84.4815% (1165/1379) (classification)\n",
      "Accuracy = 84.4815% (1165/1379) (classification)\n",
      "Accuracy = 84.4815% (1165/1379) (classification)\n",
      "Accuracy = 84.4815% (1165/1379) (classification)\n",
      "Accuracy = 84.554% (1166/1379) (classification)\n",
      "Accuracy = 84.409% (1164/1379) (classification)\n",
      "Accuracy = 84.409% (1164/1379) (classification)\n",
      "Accuracy = 84.409% (1164/1379) (classification)\n",
      "Accuracy = 84.409% (1164/1379) (classification)\n",
      "Accuracy = 84.409% (1164/1379) (classification)\n",
      "Accuracy = 84.409% (1164/1379) (classification)\n",
      "Accuracy = 84.409% (1164/1379) (classification)\n",
      "Accuracy = 84.409% (1164/1379) (classification)\n",
      "Accuracy = 84.409% (1164/1379) (classification)\n",
      "Accuracy = 84.409% (1164/1379) (classification)\n",
      "Accuracy = 84.409% (1164/1379) (classification)\n",
      "Accuracy = 84.409% (1164/1379) (classification)\n",
      "Accuracy = 84.409% (1164/1379) (classification)\n",
      "Accuracy = 84.409% (1164/1379) (classification)\n",
      "Accuracy = 84.409% (1164/1379) (classification)\n",
      "Accuracy = 84.4815% (1165/1379) (classification)\n",
      "Accuracy = 84.554% (1166/1379) (classification)\n",
      "Accuracy = 84.554% (1166/1379) (classification)\n",
      "Accuracy = 84.554% (1166/1379) (classification)\n",
      "Accuracy = 84.554% (1166/1379) (classification)\n",
      "Accuracy = 84.554% (1166/1379) (classification)\n",
      "Accuracy = 84.554% (1166/1379) (classification)\n",
      "Accuracy = 84.554% (1166/1379) (classification)\n",
      "Accuracy = 84.554% (1166/1379) (classification)\n"
     ]
    }
   ],
   "source": [
    "#Finding best model\n",
    "bestModel = None\n",
    "bestMSE = 0\n",
    "acclist = []\n",
    "mselist = []\n",
    "reg = np.arange(0.5, 100, 0.5)\n",
    "for regularization in reg:\n",
    "    model = svm_train(trainData, svm_parameter('-c '+str(regularization)))\n",
    "    labels, accuracy, values = svm_predict(y_TestData, x_TestData, model) \n",
    "    acclist.append(accuracy[0])\n",
    "    mselist.append(accuracy[1])\n",
    "    if bestModel == None or bestMSE > accuracy[1]: \n",
    "        bestModel = model\n",
    "        bestMSE = accuracy[1]"
   ]
  },
  {
   "cell_type": "code",
   "execution_count": 17,
   "metadata": {},
   "outputs": [
    {
     "data": {
      "text/plain": [
       "7.5"
      ]
     },
     "execution_count": 17,
     "metadata": {},
     "output_type": "execute_result"
    }
   ],
   "source": [
    "bestModel.param.C"
   ]
  },
  {
   "cell_type": "code",
   "execution_count": 20,
   "metadata": {},
   "outputs": [
    {
     "data": {
      "text/plain": [
       "85.71428571428571"
      ]
     },
     "execution_count": 20,
     "metadata": {},
     "output_type": "execute_result"
    }
   ],
   "source": [
    "acclist[np.where(reg==bestModel.param.C)[0][0]]"
   ]
  },
  {
   "cell_type": "code",
   "execution_count": 39,
   "metadata": {},
   "outputs": [
    {
     "data": {
      "image/png": "[encoded data removed]",
      "text/plain": [
       "<Figure size 576x504 with 1 Axes>"
      ]
     },
     "metadata": {},
     "output_type": "display_data"
    }
   ],
   "source": [
    "#Plotting Cost vs Accuracy\n",
    "plt.figure(figsize=(8,7))\n",
    "plt.plot(reg, acclist)\n",
    "plt.grid()\n",
    "plt.xlabel('Regularisation', fontsize = 15)\n",
    "plt.ylabel('Accuracy', fontsize = 15)\n",
    "plt.title(\"Accuracy vs Regularisation\", fontsize = 15)\n",
    "plt.show()"
   ]
  },
  {
   "cell_type": "code",
   "execution_count": 38,
   "metadata": {},
   "outputs": [
    {
     "data": {
      "image/png": "[encoded data removed]",
      "text/plain": [
       "<Figure size 576x504 with 1 Axes>"
      ]
     },
     "metadata": {},
     "output_type": "display_data"
    }
   ],
   "source": [
    "#Plotting Cost vs MSE\n",
    "plt.figure(figsize=(8,7))\n",
    "plt.plot(reg, mselist)\n",
    "plt.grid()\n",
    "plt.xlabel('Regularisation', fontsize = 15)\n",
    "plt.ylabel('MSE', fontsize = 15)\n",
    "plt.title(\"Regularisation vs MSE\", fontsize = 15)\n",
    "plt.show()"
   ]
  },
  {
   "cell_type": "code",
   "execution_count": 27,
   "metadata": {},
   "outputs": [
    {
     "name": "stdout",
     "output_type": "stream",
     "text": [
      "Accuracy = 85.7143% (1182/1379) (classification)\n"
     ]
    }
   ],
   "source": [
    "#Prediction for best model\n",
    "predictionLabels, predictionAccuracy, predictionValue = svm_predict(y_TestData,x_TestData ,bestModel)"
   ]
  },
  {
   "cell_type": "code",
   "execution_count": 47,
   "metadata": {},
   "outputs": [],
   "source": [
    "from collections import Counter\n",
    "from sklearn import feature_extraction, model_selection, naive_bayes, metrics, svm"
   ]
  },
  {
   "cell_type": "code",
   "execution_count": 44,
   "metadata": {},
   "outputs": [
    {
     "data": {
      "text/html": [
       "<div>\n",
       "<style scoped>\n",
       "    .dataframe tbody tr th:only-of-type {\n",
       "        vertical-align: middle;\n",
       "    }\n",
       "\n",
       "    .dataframe tbody tr th {\n",
       "        vertical-align: top;\n",
       "    }\n",
       "\n",
       "    .dataframe thead th {\n",
       "        text-align: right;\n",
       "    }\n",
       "</style>\n",
       "<table border=\"1\" class=\"dataframe\">\n",
       "  <thead>\n",
       "    <tr style=\"text-align: right;\">\n",
       "      <th></th>\n",
       "      <th>Y</th>\n",
       "      <th>X</th>\n",
       "    </tr>\n",
       "  </thead>\n",
       "  <tbody>\n",
       "    <tr>\n",
       "      <th>0</th>\n",
       "      <td>ham</td>\n",
       "      <td>Go until jurong point, crazy.. Available only ...</td>\n",
       "    </tr>\n",
       "    <tr>\n",
       "      <th>1</th>\n",
       "      <td>ham</td>\n",
       "      <td>Ok lar... Joking wif u oni...</td>\n",
       "    </tr>\n",
       "    <tr>\n",
       "      <th>2</th>\n",
       "      <td>spam</td>\n",
       "      <td>Free entry in 2 a wkly comp to win FA Cup fina...</td>\n",
       "    </tr>\n",
       "    <tr>\n",
       "      <th>3</th>\n",
       "      <td>ham</td>\n",
       "      <td>U dun say so early hor... U c already then say...</td>\n",
       "    </tr>\n",
       "    <tr>\n",
       "      <th>4</th>\n",
       "      <td>ham</td>\n",
       "      <td>Nah I don't think he goes to usf, he lives aro...</td>\n",
       "    </tr>\n",
       "  </tbody>\n",
       "</table>\n",
       "</div>"
      ],
      "text/plain": [
       "      Y                                                  X\n",
       "0   ham  Go until jurong point, crazy.. Available only ...\n",
       "1   ham                      Ok lar... Joking wif u oni...\n",
       "2  spam  Free entry in 2 a wkly comp to win FA Cup fina...\n",
       "3   ham  U dun say so early hor... U c already then say...\n",
       "4   ham  Nah I don't think he goes to usf, he lives aro..."
      ]
     },
     "execution_count": 44,
     "metadata": {},
     "output_type": "execute_result"
    }
   ],
   "source": [
    "#Loading SMSSpamCollection dataset\n",
    "sms_data = pd.read_csv('SMSSpamCollection', sep=\"\\t\", header=None, encoding='latin-1', names = ['Y', 'X'])\n",
    "sms_data.head(5)"
   ]
  },
  {
   "cell_type": "code",
   "execution_count": 45,
   "metadata": {},
   "outputs": [
    {
     "data": {
      "image/png": "[encoded data removed]",
      "text/plain": [
       "<Figure size 432x288 with 1 Axes>"
      ]
     },
     "metadata": {},
     "output_type": "display_data"
    }
   ],
   "source": [
    "#Plotting Histogram of Spam and Non Spam messages\n",
    "count_Class=pd.value_counts(sms_data[\"Y\"], sort= True)\n",
    "count_Class.plot(kind= 'bar', color= [\"blue\", \"orange\"])\n",
    "plt.title('Bar chart')\n",
    "plt.show()"
   ]
  },
  {
   "cell_type": "code",
   "execution_count": 51,
   "metadata": {},
   "outputs": [],
   "source": [
    "#Frequent words in Spam/Non Spam messages\n",
    "count1 = Counter(\" \".join(sms_data[sms_data['Y']=='ham'][\"X\"]).split()).most_common(50)\n",
    "df1 = pd.DataFrame.from_dict(count1)\n",
    "df1 = df1.rename(columns={0: \"words in non-spam\", 1 : \"count\"})\n",
    "count2 = Counter(\" \".join(sms_data[sms_data['Y']=='spam'][\"X\"]).split()).most_common(50)\n",
    "df2 = pd.DataFrame.from_dict(count2)\n",
    "df2 = df2.rename(columns={0: \"words in spam\", 1 : \"count_\"})"
   ]
  },
  {
   "cell_type": "code",
   "execution_count": 56,
   "metadata": {},
   "outputs": [
    {
     "data": {
      "image/png": "[encoded data removed]",
      "text/plain": [
       "<Figure size 1440x504 with 1 Axes>"
      ]
     },
     "metadata": {},
     "output_type": "display_data"
    }
   ],
   "source": [
    "#Plots of more frequent words in non-spam messages\n",
    "df1.plot.bar(legend = False,figsize=(20,7))\n",
    "y_pos = np.arange(len(df1[\"words in non-spam\"]))\n",
    "plt.xticks(y_pos, df1[\"words in non-spam\"])\n",
    "plt.title('More frequent words in non-spam messages')\n",
    "plt.xlabel('words')\n",
    "plt.ylabel('number')\n",
    "plt.show()"
   ]
  },
  {
   "cell_type": "code",
   "execution_count": 57,
   "metadata": {},
   "outputs": [
    {
     "data": {
      "image/png": "[encoded data removed]",
      "text/plain": [
       "<Figure size 1440x504 with 1 Axes>"
      ]
     },
     "metadata": {},
     "output_type": "display_data"
    }
   ],
   "source": [
    "#Plots of more frequent words in Spam messages\n",
    "df2.plot.bar(legend = False, color = 'orange',figsize=(20,7))\n",
    "y_pos = np.arange(len(df2[\"words in spam\"]))\n",
    "plt.xticks(y_pos, df2[\"words in spam\"])\n",
    "plt.title('More frequent words in spam messages')\n",
    "plt.xlabel('words')\n",
    "plt.ylabel('number')\n",
    "plt.show()"
   ]
  },
  {
   "cell_type": "code",
   "execution_count": 65,
   "metadata": {},
   "outputs": [],
   "source": [
    "#Tf-idf and Stopword Removal\n",
    "from sklearn.feature_extraction.text import TfidfVectorizer\n",
    "f = TfidfVectorizer(stop_words = 'english')\n",
    "X = f.fit_transform(sms_data[\"X\"])"
   ]
  },
  {
   "cell_type": "code",
   "execution_count": 67,
   "metadata": {},
   "outputs": [
    {
     "name": "stdout",
     "output_type": "stream",
     "text": [
      "[(3900, 8480), (1672, 8480)]\n"
     ]
    }
   ],
   "source": [
    "#Mapping 1 and 0 for Spam and Ham respectively\n",
    "sms_data[\"Y\"]=sms_data[\"Y\"].map({'spam':1,'ham':0})\n",
    "X_train, X_test, y_train, y_test = model_selection.train_test_split(X, sms_data['Y'], test_size=0.3, random_state=42)\n",
    "print([np.shape(X_train), np.shape(X_test)])"
   ]
  },
  {
   "cell_type": "code",
   "execution_count": 99,
   "metadata": {},
   "outputs": [],
   "source": [
    "from sklearn.svm import SVC\n",
    "from sklearn.pipeline import Pipeline\n",
    "from sklearn.model_selection import GridSearchCV"
   ]
  },
  {
   "cell_type": "code",
   "execution_count": 100,
   "metadata": {},
   "outputs": [
    {
     "name": "stdout",
     "output_type": "stream",
     "text": [
      "Fitting 5 folds for each of 57 candidates, totalling 285 fits\n"
     ]
    },
    {
     "name": "stderr",
     "output_type": "stream",
     "text": [
      "[Parallel(n_jobs=3)]: Done  44 tasks      | elapsed:   19.3s\n",
      "[Parallel(n_jobs=3)]: Done 194 tasks      | elapsed:  1.0min\n",
      "[Parallel(n_jobs=3)]: Done 285 out of 285 | elapsed:  1.5min finished\n"
     ]
    },
    {
     "data": {
      "text/plain": [
       "GridSearchCV(cv=5, error_score='raise',\n",
       "       estimator=SVC(C=1.0, cache_size=200, class_weight=None, coef0=0.0,\n",
       "  decision_function_shape=None, degree=3, gamma='auto', kernel='rbf',\n",
       "  max_iter=-1, probability=False, random_state=None, shrinking=True,\n",
       "  tol=0.001, verbose=False),\n",
       "       fit_params={}, iid=True, n_jobs=3,\n",
       "       param_grid={'C': array([0.5, 1. , 1.5, 2. , 2.5, 3. , 3.5, 4. , 4.5, 5. , 5.5, 6. , 6.5,\n",
       "       7. , 7.5, 8. , 8.5, 9. , 9.5]), 'kernel': ['rbf', 'linear', 'poly']},\n",
       "       pre_dispatch='2*n_jobs', refit=True, return_train_score=True,\n",
       "       scoring=None, verbose=1)"
      ]
     },
     "execution_count": 100,
     "metadata": {},
     "output_type": "execute_result"
    }
   ],
   "source": [
    "#Gridsearch CV with 5 fold validation for SVC\n",
    "model_SVC = GridSearchCV(SVC(), cv = 5, n_jobs = 3, param_grid = {\"C\" :np.arange(0.5, 10, 0.5), \"kernel\" : [\"rbf\", \"linear\", \"poly\"]},\n",
    "             verbose = 1, refit = True)\n",
    "\n",
    "model_SVC.fit(X_train, y_train)"
   ]
  },
  {
   "cell_type": "code",
   "execution_count": 118,
   "metadata": {},
   "outputs": [
    {
     "data": {
      "image/png": "[encoded data removed]",
      "text/plain": [
       "<Figure size 864x360 with 1 Axes>"
      ]
     },
     "metadata": {},
     "output_type": "display_data"
    }
   ],
   "source": [
    "#Plots for SVC Classifier\n",
    "plt.figure(figsize = (12, 5))\n",
    "plt.title(\"SVC Classifier\")\n",
    "plt.plot(model_SVC.cv_results_[\"mean_test_score\"])\n",
    "plt.xlabel('Models with different Regularisation and Kernels', fontsize = 10)\n",
    "plt.ylabel('Mean test score', fontsize = 10)\n",
    "plt.show()"
   ]
  },
  {
   "cell_type": "code",
   "execution_count": 107,
   "metadata": {},
   "outputs": [
    {
     "name": "stdout",
     "output_type": "stream",
     "text": [
      "             precision    recall  f1-score   support\n",
      "\n",
      "        ham       0.99      1.00      0.99      1448\n",
      "       spam       0.99      0.92      0.95       224\n",
      "\n",
      "avg / total       0.99      0.99      0.99      1672\n",
      "\n"
     ]
    }
   ],
   "source": [
    "#Classification Report for SVC\n",
    "pred_SVC = model_SVC.predict(X_test)\n",
    "print(classification_report(y_test, pred_SVC, target_names=[\"ham\", \"spam\"]))"
   ]
  },
  {
   "cell_type": "code",
   "execution_count": 108,
   "metadata": {},
   "outputs": [
    {
     "data": {
      "text/html": [
       "<div>\n",
       "<style scoped>\n",
       "    .dataframe tbody tr th:only-of-type {\n",
       "        vertical-align: middle;\n",
       "    }\n",
       "\n",
       "    .dataframe tbody tr th {\n",
       "        vertical-align: top;\n",
       "    }\n",
       "\n",
       "    .dataframe thead th {\n",
       "        text-align: right;\n",
       "    }\n",
       "</style>\n",
       "<table border=\"1\" class=\"dataframe\">\n",
       "  <thead>\n",
       "    <tr style=\"text-align: right;\">\n",
       "      <th></th>\n",
       "      <th>mean_fit_time</th>\n",
       "      <th>mean_score_time</th>\n",
       "      <th>mean_test_score</th>\n",
       "      <th>mean_train_score</th>\n",
       "      <th>param_C</th>\n",
       "      <th>param_kernel</th>\n",
       "      <th>params</th>\n",
       "      <th>rank_test_score</th>\n",
       "      <th>split0_test_score</th>\n",
       "      <th>split0_train_score</th>\n",
       "      <th>...</th>\n",
       "      <th>split2_test_score</th>\n",
       "      <th>split2_train_score</th>\n",
       "      <th>split3_test_score</th>\n",
       "      <th>split3_train_score</th>\n",
       "      <th>split4_test_score</th>\n",
       "      <th>split4_train_score</th>\n",
       "      <th>std_fit_time</th>\n",
       "      <th>std_score_time</th>\n",
       "      <th>std_test_score</th>\n",
       "      <th>std_train_score</th>\n",
       "    </tr>\n",
       "  </thead>\n",
       "  <tbody>\n",
       "    <tr>\n",
       "      <th>0</th>\n",
       "      <td>0.846961</td>\n",
       "      <td>0.197531</td>\n",
       "      <td>0.865897</td>\n",
       "      <td>0.865897</td>\n",
       "      <td>0.5</td>\n",
       "      <td>rbf</td>\n",
       "      <td>{'C': 0.5, 'kernel': 'rbf'}</td>\n",
       "      <td>20</td>\n",
       "      <td>0.865557</td>\n",
       "      <td>0.865983</td>\n",
       "      <td>...</td>\n",
       "      <td>0.865385</td>\n",
       "      <td>0.866026</td>\n",
       "      <td>0.866496</td>\n",
       "      <td>0.865748</td>\n",
       "      <td>0.866496</td>\n",
       "      <td>0.865748</td>\n",
       "      <td>0.044151</td>\n",
       "      <td>0.017659</td>\n",
       "      <td>0.000492</td>\n",
       "      <td>0.000123</td>\n",
       "    </tr>\n",
       "    <tr>\n",
       "      <th>1</th>\n",
       "      <td>0.701866</td>\n",
       "      <td>0.129687</td>\n",
       "      <td>0.968462</td>\n",
       "      <td>0.984103</td>\n",
       "      <td>0.5</td>\n",
       "      <td>linear</td>\n",
       "      <td>{'C': 0.5, 'kernel': 'linear'}</td>\n",
       "      <td>19</td>\n",
       "      <td>0.970551</td>\n",
       "      <td>0.983969</td>\n",
       "      <td>...</td>\n",
       "      <td>0.960256</td>\n",
       "      <td>0.987179</td>\n",
       "      <td>0.973042</td>\n",
       "      <td>0.981737</td>\n",
       "      <td>0.965340</td>\n",
       "      <td>0.983339</td>\n",
       "      <td>0.095777</td>\n",
       "      <td>0.009483</td>\n",
       "      <td>0.004981</td>\n",
       "      <td>0.001772</td>\n",
       "    </tr>\n",
       "    <tr>\n",
       "      <th>2</th>\n",
       "      <td>0.371246</td>\n",
       "      <td>0.080754</td>\n",
       "      <td>0.865897</td>\n",
       "      <td>0.865897</td>\n",
       "      <td>0.5</td>\n",
       "      <td>poly</td>\n",
       "      <td>{'C': 0.5, 'kernel': 'poly'}</td>\n",
       "      <td>20</td>\n",
       "      <td>0.865557</td>\n",
       "      <td>0.865983</td>\n",
       "      <td>...</td>\n",
       "      <td>0.865385</td>\n",
       "      <td>0.866026</td>\n",
       "      <td>0.866496</td>\n",
       "      <td>0.865748</td>\n",
       "      <td>0.866496</td>\n",
       "      <td>0.865748</td>\n",
       "      <td>0.033116</td>\n",
       "      <td>0.004560</td>\n",
       "      <td>0.000492</td>\n",
       "      <td>0.000123</td>\n",
       "    </tr>\n",
       "    <tr>\n",
       "      <th>3</th>\n",
       "      <td>0.400664</td>\n",
       "      <td>0.099666</td>\n",
       "      <td>0.865897</td>\n",
       "      <td>0.865897</td>\n",
       "      <td>1</td>\n",
       "      <td>rbf</td>\n",
       "      <td>{'C': 1.0, 'kernel': 'rbf'}</td>\n",
       "      <td>20</td>\n",
       "      <td>0.865557</td>\n",
       "      <td>0.865983</td>\n",
       "      <td>...</td>\n",
       "      <td>0.865385</td>\n",
       "      <td>0.866026</td>\n",
       "      <td>0.866496</td>\n",
       "      <td>0.865748</td>\n",
       "      <td>0.866496</td>\n",
       "      <td>0.865748</td>\n",
       "      <td>0.021299</td>\n",
       "      <td>0.014426</td>\n",
       "      <td>0.000492</td>\n",
       "      <td>0.000123</td>\n",
       "    </tr>\n",
       "    <tr>\n",
       "      <th>4</th>\n",
       "      <td>0.486122</td>\n",
       "      <td>0.093862</td>\n",
       "      <td>0.974103</td>\n",
       "      <td>0.996923</td>\n",
       "      <td>1</td>\n",
       "      <td>linear</td>\n",
       "      <td>{'C': 1.0, 'kernel': 'linear'}</td>\n",
       "      <td>18</td>\n",
       "      <td>0.976953</td>\n",
       "      <td>0.997435</td>\n",
       "      <td>...</td>\n",
       "      <td>0.961538</td>\n",
       "      <td>0.997115</td>\n",
       "      <td>0.979461</td>\n",
       "      <td>0.995514</td>\n",
       "      <td>0.971759</td>\n",
       "      <td>0.997437</td>\n",
       "      <td>0.032422</td>\n",
       "      <td>0.006341</td>\n",
       "      <td>0.007000</td>\n",
       "      <td>0.000719</td>\n",
       "    </tr>\n",
       "  </tbody>\n",
       "</table>\n",
       "<p>5 rows × 22 columns</p>\n",
       "</div>"
      ],
      "text/plain": [
       "   mean_fit_time  mean_score_time  mean_test_score  mean_train_score param_C  \\\n",
       "0       0.846961         0.197531         0.865897          0.865897     0.5   \n",
       "1       0.701866         0.129687         0.968462          0.984103     0.5   \n",
       "2       0.371246         0.080754         0.865897          0.865897     0.5   \n",
       "3       0.400664         0.099666         0.865897          0.865897       1   \n",
       "4       0.486122         0.093862         0.974103          0.996923       1   \n",
       "\n",
       "  param_kernel                          params  rank_test_score  \\\n",
       "0          rbf     {'C': 0.5, 'kernel': 'rbf'}               20   \n",
       "1       linear  {'C': 0.5, 'kernel': 'linear'}               19   \n",
       "2         poly    {'C': 0.5, 'kernel': 'poly'}               20   \n",
       "3          rbf     {'C': 1.0, 'kernel': 'rbf'}               20   \n",
       "4       linear  {'C': 1.0, 'kernel': 'linear'}               18   \n",
       "\n",
       "   split0_test_score  split0_train_score       ...         split2_test_score  \\\n",
       "0           0.865557            0.865983       ...                  0.865385   \n",
       "1           0.970551            0.983969       ...                  0.960256   \n",
       "2           0.865557            0.865983       ...                  0.865385   \n",
       "3           0.865557            0.865983       ...                  0.865385   \n",
       "4           0.976953            0.997435       ...                  0.961538   \n",
       "\n",
       "   split2_train_score  split3_test_score  split3_train_score  \\\n",
       "0            0.866026           0.866496            0.865748   \n",
       "1            0.987179           0.973042            0.981737   \n",
       "2            0.866026           0.866496            0.865748   \n",
       "3            0.866026           0.866496            0.865748   \n",
       "4            0.997115           0.979461            0.995514   \n",
       "\n",
       "   split4_test_score  split4_train_score  std_fit_time  std_score_time  \\\n",
       "0           0.866496            0.865748      0.044151        0.017659   \n",
       "1           0.965340            0.983339      0.095777        0.009483   \n",
       "2           0.866496            0.865748      0.033116        0.004560   \n",
       "3           0.866496            0.865748      0.021299        0.014426   \n",
       "4           0.971759            0.997437      0.032422        0.006341   \n",
       "\n",
       "   std_test_score  std_train_score  \n",
       "0        0.000492         0.000123  \n",
       "1        0.004981         0.001772  \n",
       "2        0.000492         0.000123  \n",
       "3        0.000492         0.000123  \n",
       "4        0.007000         0.000719  \n",
       "\n",
       "[5 rows x 22 columns]"
      ]
     },
     "execution_count": 108,
     "metadata": {},
     "output_type": "execute_result"
    }
   ],
   "source": [
    "scores = pd.DataFrame(model_SVC.cv_results_)\n",
    "scores.head()"
   ]
  },
  {
   "cell_type": "code",
   "execution_count": 109,
   "metadata": {},
   "outputs": [
    {
     "name": "stdout",
     "output_type": "stream",
     "text": [
      "Best score {'C': 2.0, 'kernel': 'linear'}\n"
     ]
    }
   ],
   "source": [
    "print(\"Best score \" + str(model_SVC.best_params_))"
   ]
  },
  {
   "cell_type": "code",
   "execution_count": 110,
   "metadata": {},
   "outputs": [],
   "source": [
    "from sklearn.naive_bayes import BernoulliNB\n",
    "from sklearn.metrics import classification_report"
   ]
  },
  {
   "cell_type": "code",
   "execution_count": 111,
   "metadata": {},
   "outputs": [
    {
     "name": "stdout",
     "output_type": "stream",
     "text": [
      "Fitting 5 folds for each of 16 candidates, totalling 80 fits\n"
     ]
    },
    {
     "name": "stderr",
     "output_type": "stream",
     "text": [
      "[Parallel(n_jobs=3)]: Done  80 out of  80 | elapsed:    5.7s finished\n"
     ]
    },
    {
     "data": {
      "text/plain": [
       "GridSearchCV(cv=5, error_score='raise',\n",
       "       estimator=BernoulliNB(alpha=1.0, binarize=0.0, class_prior=None, fit_prior=True),\n",
       "       fit_params={}, iid=True, n_jobs=3,\n",
       "       param_grid={'alpha': array([0.1 , 0.15, 0.2 , 0.25, 0.3 , 0.35, 0.4 , 0.45, 0.5 , 0.55, 0.6 ,\n",
       "       0.65, 0.7 , 0.75, 0.8 , 0.85])},\n",
       "       pre_dispatch='2*n_jobs', refit=True, return_train_score=True,\n",
       "       scoring=None, verbose=1)"
      ]
     },
     "execution_count": 111,
     "metadata": {},
     "output_type": "execute_result"
    }
   ],
   "source": [
    "#Gridsearch CV with 5 fold validation for NB\n",
    "model_NB = GridSearchCV(BernoulliNB(), cv = 5, n_jobs = 3, param_grid = {\"alpha\" :np.arange(0.1, 0.9, 0.05)},\n",
    "             verbose = 1, refit = True)\n",
    "\n",
    "model_NB.fit(X_train, y_train)"
   ]
  },
  {
   "cell_type": "code",
   "execution_count": 120,
   "metadata": {},
   "outputs": [
    {
     "data": {
      "image/png": "[encoded data removed]",
      "text/plain": [
       "<Figure size 864x360 with 1 Axes>"
      ]
     },
     "metadata": {},
     "output_type": "display_data"
    }
   ],
   "source": [
    "#Plots for NB Classifier\n",
    "plt.figure(figsize = (12, 5))\n",
    "plt.title(\"NaiveBayes\")\n",
    "plt.plot(model_NB.cv_results_[\"mean_test_score\"])\n",
    "plt.plot(model_NB.cv_results_[\"mean_test_score\"], 'bo')\n",
    "plt.xlabel('Model with different alphas', fontsize = 10)\n",
    "plt.ylabel('Mean test score', fontsize = 10)\n",
    "plt.show()"
   ]
  },
  {
   "cell_type": "code",
   "execution_count": 98,
   "metadata": {},
   "outputs": [
    {
     "name": "stdout",
     "output_type": "stream",
     "text": [
      "             precision    recall  f1-score   support\n",
      "\n",
      "        ham       0.99      1.00      0.99      1448\n",
      "       spam       0.97      0.96      0.96       224\n",
      "\n",
      "avg / total       0.99      0.99      0.99      1672\n",
      "\n"
     ]
    }
   ],
   "source": [
    "#Classification Report for NB\n",
    "pred_NB = model_NB.predict(X_test)\n",
    "print(classification_report(y_test, pred_NB, target_names=[\"ham\", \"spam\"]))"
   ]
  },
  {
   "cell_type": "code",
   "execution_count": 95,
   "metadata": {},
   "outputs": [
    {
     "data": {
      "text/html": [
       "<div>\n",
       "<style scoped>\n",
       "    .dataframe tbody tr th:only-of-type {\n",
       "        vertical-align: middle;\n",
       "    }\n",
       "\n",
       "    .dataframe tbody tr th {\n",
       "        vertical-align: top;\n",
       "    }\n",
       "\n",
       "    .dataframe thead th {\n",
       "        text-align: right;\n",
       "    }\n",
       "</style>\n",
       "<table border=\"1\" class=\"dataframe\">\n",
       "  <thead>\n",
       "    <tr style=\"text-align: right;\">\n",
       "      <th></th>\n",
       "      <th>mean_fit_time</th>\n",
       "      <th>mean_score_time</th>\n",
       "      <th>mean_test_score</th>\n",
       "      <th>mean_train_score</th>\n",
       "      <th>param_alpha</th>\n",
       "      <th>params</th>\n",
       "      <th>rank_test_score</th>\n",
       "      <th>split0_test_score</th>\n",
       "      <th>split0_train_score</th>\n",
       "      <th>split1_test_score</th>\n",
       "      <th>...</th>\n",
       "      <th>split2_test_score</th>\n",
       "      <th>split2_train_score</th>\n",
       "      <th>split3_test_score</th>\n",
       "      <th>split3_train_score</th>\n",
       "      <th>split4_test_score</th>\n",
       "      <th>split4_train_score</th>\n",
       "      <th>std_fit_time</th>\n",
       "      <th>std_score_time</th>\n",
       "      <th>std_test_score</th>\n",
       "      <th>std_train_score</th>\n",
       "    </tr>\n",
       "  </thead>\n",
       "  <tbody>\n",
       "    <tr>\n",
       "      <th>0</th>\n",
       "      <td>0.011006</td>\n",
       "      <td>0.003803</td>\n",
       "      <td>0.983333</td>\n",
       "      <td>0.996410</td>\n",
       "      <td>0.1</td>\n",
       "      <td>{'alpha': 0.1}</td>\n",
       "      <td>1</td>\n",
       "      <td>0.980794</td>\n",
       "      <td>0.997756</td>\n",
       "      <td>0.989757</td>\n",
       "      <td>...</td>\n",
       "      <td>0.978205</td>\n",
       "      <td>0.996154</td>\n",
       "      <td>0.987163</td>\n",
       "      <td>0.995835</td>\n",
       "      <td>0.980745</td>\n",
       "      <td>0.997116</td>\n",
       "      <td>0.001675</td>\n",
       "      <td>0.000981</td>\n",
       "      <td>0.004368</td>\n",
       "      <td>0.000916</td>\n",
       "    </tr>\n",
       "    <tr>\n",
       "      <th>1</th>\n",
       "      <td>0.012207</td>\n",
       "      <td>0.004005</td>\n",
       "      <td>0.981538</td>\n",
       "      <td>0.994936</td>\n",
       "      <td>0.15</td>\n",
       "      <td>{'alpha': 0.15000000000000002}</td>\n",
       "      <td>2</td>\n",
       "      <td>0.979513</td>\n",
       "      <td>0.995511</td>\n",
       "      <td>0.985915</td>\n",
       "      <td>...</td>\n",
       "      <td>0.978205</td>\n",
       "      <td>0.994551</td>\n",
       "      <td>0.987163</td>\n",
       "      <td>0.995194</td>\n",
       "      <td>0.976893</td>\n",
       "      <td>0.995194</td>\n",
       "      <td>0.001167</td>\n",
       "      <td>0.000895</td>\n",
       "      <td>0.004184</td>\n",
       "      <td>0.000472</td>\n",
       "    </tr>\n",
       "    <tr>\n",
       "      <th>2</th>\n",
       "      <td>0.010810</td>\n",
       "      <td>0.004202</td>\n",
       "      <td>0.981538</td>\n",
       "      <td>0.994872</td>\n",
       "      <td>0.2</td>\n",
       "      <td>{'alpha': 0.20000000000000004}</td>\n",
       "      <td>2</td>\n",
       "      <td>0.982074</td>\n",
       "      <td>0.995511</td>\n",
       "      <td>0.984635</td>\n",
       "      <td>...</td>\n",
       "      <td>0.976923</td>\n",
       "      <td>0.994551</td>\n",
       "      <td>0.987163</td>\n",
       "      <td>0.995194</td>\n",
       "      <td>0.976893</td>\n",
       "      <td>0.995194</td>\n",
       "      <td>0.001940</td>\n",
       "      <td>0.000748</td>\n",
       "      <td>0.004107</td>\n",
       "      <td>0.000574</td>\n",
       "    </tr>\n",
       "    <tr>\n",
       "      <th>3</th>\n",
       "      <td>0.011407</td>\n",
       "      <td>0.004003</td>\n",
       "      <td>0.981026</td>\n",
       "      <td>0.994231</td>\n",
       "      <td>0.25</td>\n",
       "      <td>{'alpha': 0.25000000000000006}</td>\n",
       "      <td>4</td>\n",
       "      <td>0.983355</td>\n",
       "      <td>0.994550</td>\n",
       "      <td>0.982074</td>\n",
       "      <td>...</td>\n",
       "      <td>0.974359</td>\n",
       "      <td>0.994231</td>\n",
       "      <td>0.987163</td>\n",
       "      <td>0.994553</td>\n",
       "      <td>0.978177</td>\n",
       "      <td>0.994873</td>\n",
       "      <td>0.001961</td>\n",
       "      <td>0.000895</td>\n",
       "      <td>0.004398</td>\n",
       "      <td>0.000673</td>\n",
       "    </tr>\n",
       "    <tr>\n",
       "      <th>4</th>\n",
       "      <td>0.012207</td>\n",
       "      <td>0.004204</td>\n",
       "      <td>0.980513</td>\n",
       "      <td>0.993846</td>\n",
       "      <td>0.3</td>\n",
       "      <td>{'alpha': 0.30000000000000004}</td>\n",
       "      <td>6</td>\n",
       "      <td>0.983355</td>\n",
       "      <td>0.994229</td>\n",
       "      <td>0.983355</td>\n",
       "      <td>...</td>\n",
       "      <td>0.973077</td>\n",
       "      <td>0.992949</td>\n",
       "      <td>0.984596</td>\n",
       "      <td>0.993912</td>\n",
       "      <td>0.978177</td>\n",
       "      <td>0.995194</td>\n",
       "      <td>0.001167</td>\n",
       "      <td>0.000749</td>\n",
       "      <td>0.004326</td>\n",
       "      <td>0.000846</td>\n",
       "    </tr>\n",
       "  </tbody>\n",
       "</table>\n",
       "<p>5 rows × 21 columns</p>\n",
       "</div>"
      ],
      "text/plain": [
       "   mean_fit_time  mean_score_time  mean_test_score  mean_train_score  \\\n",
       "0       0.011006         0.003803         0.983333          0.996410   \n",
       "1       0.012207         0.004005         0.981538          0.994936   \n",
       "2       0.010810         0.004202         0.981538          0.994872   \n",
       "3       0.011407         0.004003         0.981026          0.994231   \n",
       "4       0.012207         0.004204         0.980513          0.993846   \n",
       "\n",
       "  param_alpha                          params  rank_test_score  \\\n",
       "0         0.1                  {'alpha': 0.1}                1   \n",
       "1        0.15  {'alpha': 0.15000000000000002}                2   \n",
       "2         0.2  {'alpha': 0.20000000000000004}                2   \n",
       "3        0.25  {'alpha': 0.25000000000000006}                4   \n",
       "4         0.3  {'alpha': 0.30000000000000004}                6   \n",
       "\n",
       "   split0_test_score  split0_train_score  split1_test_score       ...         \\\n",
       "0           0.980794            0.997756           0.989757       ...          \n",
       "1           0.979513            0.995511           0.985915       ...          \n",
       "2           0.982074            0.995511           0.984635       ...          \n",
       "3           0.983355            0.994550           0.982074       ...          \n",
       "4           0.983355            0.994229           0.983355       ...          \n",
       "\n",
       "   split2_test_score  split2_train_score  split3_test_score  \\\n",
       "0           0.978205            0.996154           0.987163   \n",
       "1           0.978205            0.994551           0.987163   \n",
       "2           0.976923            0.994551           0.987163   \n",
       "3           0.974359            0.994231           0.987163   \n",
       "4           0.973077            0.992949           0.984596   \n",
       "\n",
       "   split3_train_score  split4_test_score  split4_train_score  std_fit_time  \\\n",
       "0            0.995835           0.980745            0.997116      0.001675   \n",
       "1            0.995194           0.976893            0.995194      0.001167   \n",
       "2            0.995194           0.976893            0.995194      0.001940   \n",
       "3            0.994553           0.978177            0.994873      0.001961   \n",
       "4            0.993912           0.978177            0.995194      0.001167   \n",
       "\n",
       "   std_score_time  std_test_score  std_train_score  \n",
       "0        0.000981        0.004368         0.000916  \n",
       "1        0.000895        0.004184         0.000472  \n",
       "2        0.000748        0.004107         0.000574  \n",
       "3        0.000895        0.004398         0.000673  \n",
       "4        0.000749        0.004326         0.000846  \n",
       "\n",
       "[5 rows x 21 columns]"
      ]
     },
     "execution_count": 95,
     "metadata": {},
     "output_type": "execute_result"
    }
   ],
   "source": [
    "scores_NB = pd.DataFrame(model_NB.cv_results_)\n",
    "scores_NB.head()"
   ]
  },
  {
   "cell_type": "code",
   "execution_count": 92,
   "metadata": {},
   "outputs": [
    {
     "name": "stdout",
     "output_type": "stream",
     "text": [
      "Best score {'alpha': 0.1}\n"
     ]
    }
   ],
   "source": [
    "print(\"Best score \" + str(model_NB.best_params_))"
   ]
  }
 ],
 "metadata": {
  "kernelspec": {
   "display_name": "Python 3",
   "language": "python",
   "name": "python3"
  },
  "language_info": {
   "codemirror_mode": {
    "name": "ipython",
    "version": 3
   },
   "file_extension": ".py",
   "mimetype": "text/x-python",
   "name": "python",
   "nbconvert_exporter": "python",
   "pygments_lexer": "ipython3",
   "version": "3.5.5"
  }
 },
 "nbformat": 4,
 "nbformat_minor": 2
}
