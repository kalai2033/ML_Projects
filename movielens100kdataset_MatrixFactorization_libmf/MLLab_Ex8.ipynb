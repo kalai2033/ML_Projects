{
 "cells": [
  {
   "cell_type": "code",
   "execution_count": 2,
   "metadata": {},
   "outputs": [],
   "source": [
    "#Import Packages\n",
    "import numpy as np\n",
    "import pandas as pd\n",
    "from sklearn.metrics import mean_squared_error\n",
    "np.random.seed(0)"
   ]
  },
  {
   "cell_type": "code",
   "execution_count": 31,
   "metadata": {},
   "outputs": [],
   "source": [
    "#Get Mean Square Error\n",
    "def get_mse(pred, actual):\n",
    "    pred = pred[actual.nonzero()].flatten()\n",
    "    actual = actual[actual.nonzero()].flatten()\n",
    "    return mean_squared_error(pred, actual)\n",
    "#Split data into test and train dataset\n",
    "def train_test_split(ratings):\n",
    "    test = np.zeros(ratings.shape)\n",
    "    train = ratings.copy()\n",
    "    for user in range(ratings.shape[0]):\n",
    "        test_ratings = np.random.choice(ratings[user, :].nonzero()[0],size=10,replace=False)\n",
    "        train[user, test_ratings] = 0.\n",
    "        test[user, test_ratings] = ratings[user, test_ratings]\n",
    "    assert(np.all((train * test) == 0)) \n",
    "    return train, test\n",
    "#K-Fold Cross Validation\n",
    "def kFold_Cross_Validation(Train, model, modelParameters, nFolds):    \n",
    "    ind = np.array(range(0, len(Train)))\n",
    "    folds = np.array_split(ind, nFolds)    \n",
    "    minlosslist = []\n",
    "    for i in range(0, len(folds)):\n",
    "        validationSet = folds[i]\n",
    "        trainSet = np.setdiff1d(ind, validationSet)        \n",
    "        train_data = np.take(xTrain, trainSet, axis = 0)\n",
    "        test_data = np.take(xTrain, validationSet, axis = 0)\n",
    "        MF_SGD = model(**modelParameters)\n",
    "        minlosslist.append(testLoss[-1])        \n",
    "    return modelParams,minlosslist"
   ]
  },
  {
   "cell_type": "code",
   "execution_count": 25,
   "metadata": {},
   "outputs": [],
   "source": [
    "cols = ['user_id', 'item_id', 'rating', 'timestamp']\n",
    "df = pd.read_csv('ml-100k/u.data', sep='\\t', names=cols)\n",
    "n_users = df.user_id.unique().shape[0]\n",
    "n_items = df.item_id.unique().shape[0]\n",
    "ratings = np.zeros((n_users, n_items))\n",
    "for row in df.itertuples():\n",
    "    ratings[row[1]-1, row[2]-1] = row[3]\n",
    "#Splitting data into test and train\n",
    "train, test = train_test_split(ratings)"
   ]
  },
  {
   "cell_type": "markdown",
   "metadata": {},
   "source": [
    "### Analysis of Movielens 100k dataset"
   ]
  },
  {
   "cell_type": "code",
   "execution_count": 158,
   "metadata": {},
   "outputs": [
    {
     "data": {
      "text/html": [
       "<div>\n",
       "<style scoped>\n",
       "    .dataframe tbody tr th:only-of-type {\n",
       "        vertical-align: middle;\n",
       "    }\n",
       "\n",
       "    .dataframe tbody tr th {\n",
       "        vertical-align: top;\n",
       "    }\n",
       "\n",
       "    .dataframe thead th {\n",
       "        text-align: right;\n",
       "    }\n",
       "</style>\n",
       "<table border=\"1\" class=\"dataframe\">\n",
       "  <thead>\n",
       "    <tr style=\"text-align: right;\">\n",
       "      <th></th>\n",
       "      <th>user_id</th>\n",
       "      <th>item_id</th>\n",
       "      <th>rating</th>\n",
       "      <th>timestamp</th>\n",
       "      <th>year</th>\n",
       "      <th>month</th>\n",
       "    </tr>\n",
       "  </thead>\n",
       "  <tbody>\n",
       "    <tr>\n",
       "      <th>214</th>\n",
       "      <td>259</td>\n",
       "      <td>255</td>\n",
       "      <td>4</td>\n",
       "      <td>1997-09-20 05:05:10</td>\n",
       "      <td>1997</td>\n",
       "      <td>9</td>\n",
       "    </tr>\n",
       "    <tr>\n",
       "      <th>83965</th>\n",
       "      <td>259</td>\n",
       "      <td>286</td>\n",
       "      <td>4</td>\n",
       "      <td>1997-09-20 05:05:27</td>\n",
       "      <td>1997</td>\n",
       "      <td>9</td>\n",
       "    </tr>\n",
       "    <tr>\n",
       "      <th>43027</th>\n",
       "      <td>259</td>\n",
       "      <td>298</td>\n",
       "      <td>4</td>\n",
       "      <td>1997-09-20 05:05:54</td>\n",
       "      <td>1997</td>\n",
       "      <td>9</td>\n",
       "    </tr>\n",
       "    <tr>\n",
       "      <th>21396</th>\n",
       "      <td>259</td>\n",
       "      <td>185</td>\n",
       "      <td>4</td>\n",
       "      <td>1997-09-20 05:06:21</td>\n",
       "      <td>1997</td>\n",
       "      <td>9</td>\n",
       "    </tr>\n",
       "    <tr>\n",
       "      <th>82655</th>\n",
       "      <td>259</td>\n",
       "      <td>173</td>\n",
       "      <td>4</td>\n",
       "      <td>1997-09-20 05:07:23</td>\n",
       "      <td>1997</td>\n",
       "      <td>9</td>\n",
       "    </tr>\n",
       "  </tbody>\n",
       "</table>\n",
       "</div>"
      ],
      "text/plain": [
       "       user_id  item_id  rating           timestamp  year  month\n",
       "214        259      255       4 1997-09-20 05:05:10  1997      9\n",
       "83965      259      286       4 1997-09-20 05:05:27  1997      9\n",
       "43027      259      298       4 1997-09-20 05:05:54  1997      9\n",
       "21396      259      185       4 1997-09-20 05:06:21  1997      9\n",
       "82655      259      173       4 1997-09-20 05:07:23  1997      9"
      ]
     },
     "execution_count": 158,
     "metadata": {},
     "output_type": "execute_result"
    }
   ],
   "source": [
    "df.head()"
   ]
  },
  {
   "cell_type": "code",
   "execution_count": 159,
   "metadata": {},
   "outputs": [
    {
     "data": {
      "text/html": [
       "<div>\n",
       "<style scoped>\n",
       "    .dataframe tbody tr th:only-of-type {\n",
       "        vertical-align: middle;\n",
       "    }\n",
       "\n",
       "    .dataframe tbody tr th {\n",
       "        vertical-align: top;\n",
       "    }\n",
       "\n",
       "    .dataframe thead th {\n",
       "        text-align: right;\n",
       "    }\n",
       "</style>\n",
       "<table border=\"1\" class=\"dataframe\">\n",
       "  <thead>\n",
       "    <tr style=\"text-align: right;\">\n",
       "      <th></th>\n",
       "      <th>user_id</th>\n",
       "      <th>item_id</th>\n",
       "      <th>rating</th>\n",
       "      <th>timestamp</th>\n",
       "      <th>year</th>\n",
       "      <th>month</th>\n",
       "    </tr>\n",
       "  </thead>\n",
       "  <tbody>\n",
       "    <tr>\n",
       "      <th>46773</th>\n",
       "      <td>729</td>\n",
       "      <td>689</td>\n",
       "      <td>4</td>\n",
       "      <td>1998-04-23 01:10:38</td>\n",
       "      <td>1998</td>\n",
       "      <td>4</td>\n",
       "    </tr>\n",
       "    <tr>\n",
       "      <th>73008</th>\n",
       "      <td>729</td>\n",
       "      <td>313</td>\n",
       "      <td>3</td>\n",
       "      <td>1998-04-23 01:10:38</td>\n",
       "      <td>1998</td>\n",
       "      <td>4</td>\n",
       "    </tr>\n",
       "    <tr>\n",
       "      <th>46574</th>\n",
       "      <td>729</td>\n",
       "      <td>328</td>\n",
       "      <td>3</td>\n",
       "      <td>1998-04-23 01:10:38</td>\n",
       "      <td>1998</td>\n",
       "      <td>4</td>\n",
       "    </tr>\n",
       "    <tr>\n",
       "      <th>64312</th>\n",
       "      <td>729</td>\n",
       "      <td>748</td>\n",
       "      <td>4</td>\n",
       "      <td>1998-04-23 01:10:38</td>\n",
       "      <td>1998</td>\n",
       "      <td>4</td>\n",
       "    </tr>\n",
       "    <tr>\n",
       "      <th>79208</th>\n",
       "      <td>729</td>\n",
       "      <td>272</td>\n",
       "      <td>4</td>\n",
       "      <td>1998-04-23 01:10:38</td>\n",
       "      <td>1998</td>\n",
       "      <td>4</td>\n",
       "    </tr>\n",
       "  </tbody>\n",
       "</table>\n",
       "</div>"
      ],
      "text/plain": [
       "       user_id  item_id  rating           timestamp  year  month\n",
       "46773      729      689       4 1998-04-23 01:10:38  1998      4\n",
       "73008      729      313       3 1998-04-23 01:10:38  1998      4\n",
       "46574      729      328       3 1998-04-23 01:10:38  1998      4\n",
       "64312      729      748       4 1998-04-23 01:10:38  1998      4\n",
       "79208      729      272       4 1998-04-23 01:10:38  1998      4"
      ]
     },
     "execution_count": 159,
     "metadata": {},
     "output_type": "execute_result"
    }
   ],
   "source": [
    "df.tail()"
   ]
  },
  {
   "cell_type": "code",
   "execution_count": 169,
   "metadata": {},
   "outputs": [
    {
     "data": {
      "text/html": [
       "<div>\n",
       "<style scoped>\n",
       "    .dataframe tbody tr th:only-of-type {\n",
       "        vertical-align: middle;\n",
       "    }\n",
       "\n",
       "    .dataframe tbody tr th {\n",
       "        vertical-align: top;\n",
       "    }\n",
       "\n",
       "    .dataframe thead th {\n",
       "        text-align: right;\n",
       "    }\n",
       "</style>\n",
       "<table border=\"1\" class=\"dataframe\">\n",
       "  <thead>\n",
       "    <tr style=\"text-align: right;\">\n",
       "      <th></th>\n",
       "      <th>user_id</th>\n",
       "      <th>item_id</th>\n",
       "      <th>rating</th>\n",
       "      <th>year</th>\n",
       "      <th>month</th>\n",
       "    </tr>\n",
       "  </thead>\n",
       "  <tbody>\n",
       "    <tr>\n",
       "      <th>count</th>\n",
       "      <td>100000.00000</td>\n",
       "      <td>100000.000000</td>\n",
       "      <td>100000.000000</td>\n",
       "      <td>100000.00000</td>\n",
       "      <td>100000.000000</td>\n",
       "    </tr>\n",
       "    <tr>\n",
       "      <th>mean</th>\n",
       "      <td>462.48475</td>\n",
       "      <td>425.530130</td>\n",
       "      <td>3.529860</td>\n",
       "      <td>1997.47116</td>\n",
       "      <td>6.823180</td>\n",
       "    </tr>\n",
       "    <tr>\n",
       "      <th>std</th>\n",
       "      <td>266.61442</td>\n",
       "      <td>330.798356</td>\n",
       "      <td>1.125674</td>\n",
       "      <td>0.49917</td>\n",
       "      <td>4.316246</td>\n",
       "    </tr>\n",
       "    <tr>\n",
       "      <th>min</th>\n",
       "      <td>1.00000</td>\n",
       "      <td>1.000000</td>\n",
       "      <td>1.000000</td>\n",
       "      <td>1997.00000</td>\n",
       "      <td>1.000000</td>\n",
       "    </tr>\n",
       "    <tr>\n",
       "      <th>25%</th>\n",
       "      <td>254.00000</td>\n",
       "      <td>175.000000</td>\n",
       "      <td>3.000000</td>\n",
       "      <td>1997.00000</td>\n",
       "      <td>2.000000</td>\n",
       "    </tr>\n",
       "    <tr>\n",
       "      <th>50%</th>\n",
       "      <td>447.00000</td>\n",
       "      <td>322.000000</td>\n",
       "      <td>4.000000</td>\n",
       "      <td>1997.00000</td>\n",
       "      <td>9.000000</td>\n",
       "    </tr>\n",
       "    <tr>\n",
       "      <th>75%</th>\n",
       "      <td>682.00000</td>\n",
       "      <td>631.000000</td>\n",
       "      <td>4.000000</td>\n",
       "      <td>1998.00000</td>\n",
       "      <td>11.000000</td>\n",
       "    </tr>\n",
       "    <tr>\n",
       "      <th>max</th>\n",
       "      <td>943.00000</td>\n",
       "      <td>1682.000000</td>\n",
       "      <td>5.000000</td>\n",
       "      <td>1998.00000</td>\n",
       "      <td>12.000000</td>\n",
       "    </tr>\n",
       "  </tbody>\n",
       "</table>\n",
       "</div>"
      ],
      "text/plain": [
       "            user_id        item_id         rating          year          month\n",
       "count  100000.00000  100000.000000  100000.000000  100000.00000  100000.000000\n",
       "mean      462.48475     425.530130       3.529860    1997.47116       6.823180\n",
       "std       266.61442     330.798356       1.125674       0.49917       4.316246\n",
       "min         1.00000       1.000000       1.000000    1997.00000       1.000000\n",
       "25%       254.00000     175.000000       3.000000    1997.00000       2.000000\n",
       "50%       447.00000     322.000000       4.000000    1997.00000       9.000000\n",
       "75%       682.00000     631.000000       4.000000    1998.00000      11.000000\n",
       "max       943.00000    1682.000000       5.000000    1998.00000      12.000000"
      ]
     },
     "execution_count": 169,
     "metadata": {},
     "output_type": "execute_result"
    }
   ],
   "source": [
    "df.describe()"
   ]
  },
  {
   "cell_type": "code",
   "execution_count": 168,
   "metadata": {},
   "outputs": [
    {
     "data": {
      "image/png": "[encoded data removed]",
      "text/plain": [
       "<Figure size 432x288 with 1 Axes>"
      ]
     },
     "metadata": {},
     "output_type": "display_data"
    }
   ],
   "source": [
    "#Distribution of Ratings in terms of frequency\n",
    "df.rating.plot.hist(bins=20)\n",
    "plt.title(\"Distribution of Ratings\")\n",
    "plt.xlabel(\"Rating\")\n",
    "plt.ylabel(\"Frequency\")\n",
    "plt.show()"
   ]
  },
  {
   "cell_type": "code",
   "execution_count": 160,
   "metadata": {},
   "outputs": [
    {
     "data": {
      "image/png": "[encoded data removed]",
      "text/plain": [
       "<Figure size 432x288 with 1 Axes>"
      ]
     },
     "metadata": {},
     "output_type": "display_data"
    }
   ],
   "source": [
    "#Distribution of Ratings in terms of percentage\n",
    "norm_counts = (df['rating'].value_counts(normalize=True, sort=False).multiply(100).reset_index()\n",
    "    .rename(columns={'rating': 'percent', 'index': 'rating'}))\n",
    "ax = sns.barplot(x='rating', y='percent', data=norm_counts)\n",
    "ax.set_title('Rating Frequencies')\n",
    "plt.show()"
   ]
  },
  {
   "cell_type": "code",
   "execution_count": 209,
   "metadata": {},
   "outputs": [
    {
     "data": {
      "text/html": [
       "<div>\n",
       "<style scoped>\n",
       "    .dataframe tbody tr th:only-of-type {\n",
       "        vertical-align: middle;\n",
       "    }\n",
       "\n",
       "    .dataframe tbody tr th {\n",
       "        vertical-align: top;\n",
       "    }\n",
       "\n",
       "    .dataframe thead th {\n",
       "        text-align: right;\n",
       "    }\n",
       "</style>\n",
       "<table border=\"1\" class=\"dataframe\">\n",
       "  <thead>\n",
       "    <tr style=\"text-align: right;\">\n",
       "      <th></th>\n",
       "      <th>year</th>\n",
       "      <th>month</th>\n",
       "      <th>Rating</th>\n",
       "      <th>std</th>\n",
       "    </tr>\n",
       "    <tr>\n",
       "      <th>Date</th>\n",
       "      <th></th>\n",
       "      <th></th>\n",
       "      <th></th>\n",
       "      <th></th>\n",
       "    </tr>\n",
       "  </thead>\n",
       "  <tbody>\n",
       "    <tr>\n",
       "      <th>1997-09-01</th>\n",
       "      <td>1997</td>\n",
       "      <td>9</td>\n",
       "      <td>3.536429</td>\n",
       "      <td>1.093831</td>\n",
       "    </tr>\n",
       "    <tr>\n",
       "      <th>1997-10-01</th>\n",
       "      <td>1997</td>\n",
       "      <td>10</td>\n",
       "      <td>3.592110</td>\n",
       "      <td>1.099493</td>\n",
       "    </tr>\n",
       "    <tr>\n",
       "      <th>1997-11-01</th>\n",
       "      <td>1997</td>\n",
       "      <td>11</td>\n",
       "      <td>3.559903</td>\n",
       "      <td>1.108878</td>\n",
       "    </tr>\n",
       "    <tr>\n",
       "      <th>1997-12-01</th>\n",
       "      <td>1997</td>\n",
       "      <td>12</td>\n",
       "      <td>3.580908</td>\n",
       "      <td>1.109153</td>\n",
       "    </tr>\n",
       "    <tr>\n",
       "      <th>1998-01-01</th>\n",
       "      <td>1998</td>\n",
       "      <td>1</td>\n",
       "      <td>3.399233</td>\n",
       "      <td>1.188848</td>\n",
       "    </tr>\n",
       "    <tr>\n",
       "      <th>1998-02-01</th>\n",
       "      <td>1998</td>\n",
       "      <td>2</td>\n",
       "      <td>3.453308</td>\n",
       "      <td>1.128869</td>\n",
       "    </tr>\n",
       "    <tr>\n",
       "      <th>1998-03-01</th>\n",
       "      <td>1998</td>\n",
       "      <td>3</td>\n",
       "      <td>3.538558</td>\n",
       "      <td>1.110929</td>\n",
       "    </tr>\n",
       "    <tr>\n",
       "      <th>1998-04-01</th>\n",
       "      <td>1998</td>\n",
       "      <td>4</td>\n",
       "      <td>3.585308</td>\n",
       "      <td>1.136498</td>\n",
       "    </tr>\n",
       "  </tbody>\n",
       "</table>\n",
       "</div>"
      ],
      "text/plain": [
       "            year month    Rating       std\n",
       "Date                                      \n",
       "1997-09-01  1997     9  3.536429  1.093831\n",
       "1997-10-01  1997    10  3.592110  1.099493\n",
       "1997-11-01  1997    11  3.559903  1.108878\n",
       "1997-12-01  1997    12  3.580908  1.109153\n",
       "1998-01-01  1998     1  3.399233  1.188848\n",
       "1998-02-01  1998     2  3.453308  1.128869\n",
       "1998-03-01  1998     3  3.538558  1.110929\n",
       "1998-04-01  1998     4  3.585308  1.136498"
      ]
     },
     "metadata": {},
     "output_type": "display_data"
    }
   ],
   "source": [
    "#Distribution of average Ratings over time\n",
    "month_counts = df.groupby(['year', 'month'])['rating'].agg([np.mean, np.std])\n",
    "month_counts = month_counts.rename(index=str, columns={'mean': 'Rating'})\n",
    "month_counts = month_counts.reset_index()\n",
    "month_counts['Date'] = month_counts[['year', 'month']].apply(lambda x: datetime(year=int(x[0]), month=int(x[1]), day=1), axis=1)\n",
    "month_counts = month_counts.set_index('Date', drop=True)\n",
    "display(month_counts)"
   ]
  },
  {
   "cell_type": "code",
   "execution_count": 213,
   "metadata": {},
   "outputs": [
    {
     "data": {
      "image/png": "[encoded data removed]",
      "text/plain": [
       "<Figure size 432x288 with 1 Axes>"
      ]
     },
     "metadata": {},
     "output_type": "display_data"
    }
   ],
   "source": [
    "month_counts['Rating'].plot(style='b-')\n",
    "plt.fill_between(month_counts.index,month_counts['Rating'] - month_counts['std'],month_counts['Rating'] + month_counts['std'],alpha=0.3)\n",
    "plt.ylim([0, 5])\n",
    "plt.ylabel('Rating')\n",
    "plt.gca().grid(which='minor')\n",
    "plt.title('Distribution of average Ratings over time')\n",
    "plt.show()"
   ]
  },
  {
   "cell_type": "code",
   "execution_count": 214,
   "metadata": {},
   "outputs": [
    {
     "data": {
      "text/html": [
       "<div>\n",
       "<style scoped>\n",
       "    .dataframe tbody tr th:only-of-type {\n",
       "        vertical-align: middle;\n",
       "    }\n",
       "\n",
       "    .dataframe tbody tr th {\n",
       "        vertical-align: top;\n",
       "    }\n",
       "\n",
       "    .dataframe thead th {\n",
       "        text-align: right;\n",
       "    }\n",
       "</style>\n",
       "<table border=\"1\" class=\"dataframe\">\n",
       "  <thead>\n",
       "    <tr style=\"text-align: right;\">\n",
       "      <th></th>\n",
       "      <th>user_id</th>\n",
       "      <th>item_id</th>\n",
       "      <th>rating</th>\n",
       "      <th>timestamp</th>\n",
       "      <th>year</th>\n",
       "      <th>month</th>\n",
       "      <th>Date</th>\n",
       "    </tr>\n",
       "  </thead>\n",
       "  <tbody>\n",
       "    <tr>\n",
       "      <th>214</th>\n",
       "      <td>259</td>\n",
       "      <td>255</td>\n",
       "      <td>4</td>\n",
       "      <td>1997-09-20 05:05:10</td>\n",
       "      <td>1997</td>\n",
       "      <td>9</td>\n",
       "      <td>1997-09-01</td>\n",
       "    </tr>\n",
       "    <tr>\n",
       "      <th>83965</th>\n",
       "      <td>259</td>\n",
       "      <td>286</td>\n",
       "      <td>4</td>\n",
       "      <td>1997-09-20 05:05:27</td>\n",
       "      <td>1997</td>\n",
       "      <td>9</td>\n",
       "      <td>1997-09-01</td>\n",
       "    </tr>\n",
       "    <tr>\n",
       "      <th>43027</th>\n",
       "      <td>259</td>\n",
       "      <td>298</td>\n",
       "      <td>4</td>\n",
       "      <td>1997-09-20 05:05:54</td>\n",
       "      <td>1997</td>\n",
       "      <td>9</td>\n",
       "      <td>1997-09-01</td>\n",
       "    </tr>\n",
       "    <tr>\n",
       "      <th>21396</th>\n",
       "      <td>259</td>\n",
       "      <td>185</td>\n",
       "      <td>4</td>\n",
       "      <td>1997-09-20 05:06:21</td>\n",
       "      <td>1997</td>\n",
       "      <td>9</td>\n",
       "      <td>1997-09-01</td>\n",
       "    </tr>\n",
       "    <tr>\n",
       "      <th>82655</th>\n",
       "      <td>259</td>\n",
       "      <td>173</td>\n",
       "      <td>4</td>\n",
       "      <td>1997-09-20 05:07:23</td>\n",
       "      <td>1997</td>\n",
       "      <td>9</td>\n",
       "      <td>1997-09-01</td>\n",
       "    </tr>\n",
       "  </tbody>\n",
       "</table>\n",
       "</div>"
      ],
      "text/plain": [
       "       user_id  item_id  rating           timestamp  year  month       Date\n",
       "214        259      255       4 1997-09-20 05:05:10  1997      9 1997-09-01\n",
       "83965      259      286       4 1997-09-20 05:05:27  1997      9 1997-09-01\n",
       "43027      259      298       4 1997-09-20 05:05:54  1997      9 1997-09-01\n",
       "21396      259      185       4 1997-09-20 05:06:21  1997      9 1997-09-01\n",
       "82655      259      173       4 1997-09-20 05:07:23  1997      9 1997-09-01"
      ]
     },
     "metadata": {},
     "output_type": "display_data"
    }
   ],
   "source": [
    "##Count of No_of_Movies and No_of_Users over time\n",
    "df['Date'] = df[['year', 'month']].apply(lambda x: datetime(year=int(x[0]), month=int(x[1]), day=1), axis=1)\n",
    "display(df.head())"
   ]
  },
  {
   "cell_type": "code",
   "execution_count": 215,
   "metadata": {},
   "outputs": [
    {
     "data": {
      "image/png": "[encoded data removed]",
      "text/plain": [
       "<Figure size 432x288 with 1 Axes>"
      ]
     },
     "metadata": {},
     "output_type": "display_data"
    }
   ],
   "source": [
    "n_users = []\n",
    "n_movies = []\n",
    "dates = np.unique(df['Date'])\n",
    "for date in dates:\n",
    "    n_users.append(df[df['Date'] <= date]['user_id'].nunique())\n",
    "    n_movies.append(df[df['Date'] <= date]['item_id'].nunique())\n",
    "df_users = pd.DataFrame({'Date': dates, '# of Users': n_users}).set_index('Date')\n",
    "df_movies = pd.DataFrame({'Date': dates, '# of Movies': n_movies}).set_index('Date')\n",
    "fig, ax = plt.subplots()\n",
    "df_movies['# of Movies'].plot(style='o-', ax=ax)\n",
    "df_users['# of Users'].plot(style='o-', ax=ax)\n",
    "plt.ylabel('Count')\n",
    "plt.ylim([0, 2000])\n",
    "ax.grid(which='minor')\n",
    "plt.tight_layout()\n",
    "plt.legend()\n",
    "plt.show()"
   ]
  },
  {
   "cell_type": "code",
   "execution_count": 166,
   "metadata": {},
   "outputs": [
    {
     "data": {
      "image/png": "[encoded data removed]",
      "text/plain": [
       "<Figure size 432x288 with 1 Axes>"
      ]
     },
     "metadata": {},
     "output_type": "display_data"
    }
   ],
   "source": [
    "#Empirical Cumulative Distribution Function (ECDF) plot.\n",
    "user_counts = df['user_id'].value_counts(ascending=True)\n",
    "user_counts.index = np.arange(len(user_counts)) / len(user_counts)\n",
    "plt.plot(user_counts, user_counts.index, '.', label='Users')\n",
    "movie_counts = df['item_id'].value_counts(ascending=True)\n",
    "movie_counts.index = np.arange(len(movie_counts)) / len(movie_counts)\n",
    "plt.plot(movie_counts, movie_counts.index, '.', label='Movies')\n",
    "plt.xlabel('Number of Ratings')\n",
    "plt.ylabel('ECDF')\n",
    "plt.legend()\n",
    "plt.show()"
   ]
  },
  {
   "cell_type": "markdown",
   "metadata": {},
   "source": [
    "### Analysis of Red Wine dataset"
   ]
  },
  {
   "cell_type": "code",
   "execution_count": 170,
   "metadata": {},
   "outputs": [],
   "source": [
    "wineData = pd.read_csv(\"winequality-red.csv\", sep=\";\")"
   ]
  },
  {
   "cell_type": "code",
   "execution_count": 172,
   "metadata": {},
   "outputs": [
    {
     "data": {
      "text/html": [
       "<div>\n",
       "<style scoped>\n",
       "    .dataframe tbody tr th:only-of-type {\n",
       "        vertical-align: middle;\n",
       "    }\n",
       "\n",
       "    .dataframe tbody tr th {\n",
       "        vertical-align: top;\n",
       "    }\n",
       "\n",
       "    .dataframe thead th {\n",
       "        text-align: right;\n",
       "    }\n",
       "</style>\n",
       "<table border=\"1\" class=\"dataframe\">\n",
       "  <thead>\n",
       "    <tr style=\"text-align: right;\">\n",
       "      <th></th>\n",
       "      <th>fixed acidity</th>\n",
       "      <th>volatile acidity</th>\n",
       "      <th>citric acid</th>\n",
       "      <th>residual sugar</th>\n",
       "      <th>chlorides</th>\n",
       "      <th>free sulfur dioxide</th>\n",
       "      <th>total sulfur dioxide</th>\n",
       "      <th>density</th>\n",
       "      <th>pH</th>\n",
       "      <th>sulphates</th>\n",
       "      <th>alcohol</th>\n",
       "      <th>quality</th>\n",
       "    </tr>\n",
       "  </thead>\n",
       "  <tbody>\n",
       "    <tr>\n",
       "      <th>0</th>\n",
       "      <td>7.4</td>\n",
       "      <td>0.70</td>\n",
       "      <td>0.00</td>\n",
       "      <td>1.9</td>\n",
       "      <td>0.076</td>\n",
       "      <td>11.0</td>\n",
       "      <td>34.0</td>\n",
       "      <td>0.9978</td>\n",
       "      <td>3.51</td>\n",
       "      <td>0.56</td>\n",
       "      <td>9.4</td>\n",
       "      <td>5</td>\n",
       "    </tr>\n",
       "    <tr>\n",
       "      <th>1</th>\n",
       "      <td>7.8</td>\n",
       "      <td>0.88</td>\n",
       "      <td>0.00</td>\n",
       "      <td>2.6</td>\n",
       "      <td>0.098</td>\n",
       "      <td>25.0</td>\n",
       "      <td>67.0</td>\n",
       "      <td>0.9968</td>\n",
       "      <td>3.20</td>\n",
       "      <td>0.68</td>\n",
       "      <td>9.8</td>\n",
       "      <td>5</td>\n",
       "    </tr>\n",
       "    <tr>\n",
       "      <th>2</th>\n",
       "      <td>7.8</td>\n",
       "      <td>0.76</td>\n",
       "      <td>0.04</td>\n",
       "      <td>2.3</td>\n",
       "      <td>0.092</td>\n",
       "      <td>15.0</td>\n",
       "      <td>54.0</td>\n",
       "      <td>0.9970</td>\n",
       "      <td>3.26</td>\n",
       "      <td>0.65</td>\n",
       "      <td>9.8</td>\n",
       "      <td>5</td>\n",
       "    </tr>\n",
       "    <tr>\n",
       "      <th>3</th>\n",
       "      <td>11.2</td>\n",
       "      <td>0.28</td>\n",
       "      <td>0.56</td>\n",
       "      <td>1.9</td>\n",
       "      <td>0.075</td>\n",
       "      <td>17.0</td>\n",
       "      <td>60.0</td>\n",
       "      <td>0.9980</td>\n",
       "      <td>3.16</td>\n",
       "      <td>0.58</td>\n",
       "      <td>9.8</td>\n",
       "      <td>6</td>\n",
       "    </tr>\n",
       "    <tr>\n",
       "      <th>4</th>\n",
       "      <td>7.4</td>\n",
       "      <td>0.70</td>\n",
       "      <td>0.00</td>\n",
       "      <td>1.9</td>\n",
       "      <td>0.076</td>\n",
       "      <td>11.0</td>\n",
       "      <td>34.0</td>\n",
       "      <td>0.9978</td>\n",
       "      <td>3.51</td>\n",
       "      <td>0.56</td>\n",
       "      <td>9.4</td>\n",
       "      <td>5</td>\n",
       "    </tr>\n",
       "  </tbody>\n",
       "</table>\n",
       "</div>"
      ],
      "text/plain": [
       "   fixed acidity  volatile acidity  citric acid  residual sugar  chlorides  \\\n",
       "0            7.4              0.70         0.00             1.9      0.076   \n",
       "1            7.8              0.88         0.00             2.6      0.098   \n",
       "2            7.8              0.76         0.04             2.3      0.092   \n",
       "3           11.2              0.28         0.56             1.9      0.075   \n",
       "4            7.4              0.70         0.00             1.9      0.076   \n",
       "\n",
       "   free sulfur dioxide  total sulfur dioxide  density    pH  sulphates  \\\n",
       "0                 11.0                  34.0   0.9978  3.51       0.56   \n",
       "1                 25.0                  67.0   0.9968  3.20       0.68   \n",
       "2                 15.0                  54.0   0.9970  3.26       0.65   \n",
       "3                 17.0                  60.0   0.9980  3.16       0.58   \n",
       "4                 11.0                  34.0   0.9978  3.51       0.56   \n",
       "\n",
       "   alcohol  quality  \n",
       "0      9.4        5  \n",
       "1      9.8        5  \n",
       "2      9.8        5  \n",
       "3      9.8        6  \n",
       "4      9.4        5  "
      ]
     },
     "execution_count": 172,
     "metadata": {},
     "output_type": "execute_result"
    }
   ],
   "source": [
    "wineData.head(5)"
   ]
  },
  {
   "cell_type": "code",
   "execution_count": 181,
   "metadata": {},
   "outputs": [
    {
     "name": "stdout",
     "output_type": "stream",
     "text": [
      "Shape of Red Wine dataset: (1599, 12)\n",
      "Column headers/names: ['fixed acidity', 'volatile acidity', 'citric acid', 'residual sugar', 'chlorides', 'free sulfur dioxide', 'total sulfur dioxide', 'density', 'pH', 'sulphates', 'alcohol', 'quality']\n"
     ]
    }
   ],
   "source": [
    "print(\"Shape of Red Wine dataset: {s}\".format(s=wineData.shape))\n",
    "print(\"Column headers/names: {s}\".format(s = list(wineData)))"
   ]
  },
  {
   "cell_type": "code",
   "execution_count": 182,
   "metadata": {},
   "outputs": [
    {
     "name": "stdout",
     "output_type": "stream",
     "text": [
      "<class 'pandas.core.frame.DataFrame'>\n",
      "RangeIndex: 1599 entries, 0 to 1598\n",
      "Data columns (total 12 columns):\n",
      "fixed acidity           1599 non-null float64\n",
      "volatile acidity        1599 non-null float64\n",
      "citric acid             1599 non-null float64\n",
      "residual sugar          1599 non-null float64\n",
      "chlorides               1599 non-null float64\n",
      "free sulfur dioxide     1599 non-null float64\n",
      "total sulfur dioxide    1599 non-null float64\n",
      "density                 1599 non-null float64\n",
      "pH                      1599 non-null float64\n",
      "sulphates               1599 non-null float64\n",
      "alcohol                 1599 non-null float64\n",
      "quality                 1599 non-null int64\n",
      "dtypes: float64(11), int64(1)\n",
      "memory usage: 150.0 KB\n"
     ]
    }
   ],
   "source": [
    "wineData.info()"
   ]
  },
  {
   "cell_type": "code",
   "execution_count": 183,
   "metadata": {},
   "outputs": [
    {
     "data": {
      "text/html": [
       "<div>\n",
       "<style scoped>\n",
       "    .dataframe tbody tr th:only-of-type {\n",
       "        vertical-align: middle;\n",
       "    }\n",
       "\n",
       "    .dataframe tbody tr th {\n",
       "        vertical-align: top;\n",
       "    }\n",
       "\n",
       "    .dataframe thead th {\n",
       "        text-align: right;\n",
       "    }\n",
       "</style>\n",
       "<table border=\"1\" class=\"dataframe\">\n",
       "  <thead>\n",
       "    <tr style=\"text-align: right;\">\n",
       "      <th></th>\n",
       "      <th>fixed acidity</th>\n",
       "      <th>volatile acidity</th>\n",
       "      <th>citric acid</th>\n",
       "      <th>residual sugar</th>\n",
       "      <th>chlorides</th>\n",
       "      <th>free sulfur dioxide</th>\n",
       "      <th>total sulfur dioxide</th>\n",
       "      <th>density</th>\n",
       "      <th>pH</th>\n",
       "      <th>sulphates</th>\n",
       "      <th>alcohol</th>\n",
       "      <th>quality</th>\n",
       "    </tr>\n",
       "  </thead>\n",
       "  <tbody>\n",
       "    <tr>\n",
       "      <th>count</th>\n",
       "      <td>1599.000000</td>\n",
       "      <td>1599.000000</td>\n",
       "      <td>1599.000000</td>\n",
       "      <td>1599.000000</td>\n",
       "      <td>1599.000000</td>\n",
       "      <td>1599.000000</td>\n",
       "      <td>1599.000000</td>\n",
       "      <td>1599.000000</td>\n",
       "      <td>1599.000000</td>\n",
       "      <td>1599.000000</td>\n",
       "      <td>1599.000000</td>\n",
       "      <td>1599.000000</td>\n",
       "    </tr>\n",
       "    <tr>\n",
       "      <th>mean</th>\n",
       "      <td>8.319637</td>\n",
       "      <td>0.527821</td>\n",
       "      <td>0.270976</td>\n",
       "      <td>2.538806</td>\n",
       "      <td>0.087467</td>\n",
       "      <td>15.874922</td>\n",
       "      <td>46.467792</td>\n",
       "      <td>0.996747</td>\n",
       "      <td>3.311113</td>\n",
       "      <td>0.658149</td>\n",
       "      <td>10.422983</td>\n",
       "      <td>5.636023</td>\n",
       "    </tr>\n",
       "    <tr>\n",
       "      <th>std</th>\n",
       "      <td>1.741096</td>\n",
       "      <td>0.179060</td>\n",
       "      <td>0.194801</td>\n",
       "      <td>1.409928</td>\n",
       "      <td>0.047065</td>\n",
       "      <td>10.460157</td>\n",
       "      <td>32.895324</td>\n",
       "      <td>0.001887</td>\n",
       "      <td>0.154386</td>\n",
       "      <td>0.169507</td>\n",
       "      <td>1.065668</td>\n",
       "      <td>0.807569</td>\n",
       "    </tr>\n",
       "    <tr>\n",
       "      <th>min</th>\n",
       "      <td>4.600000</td>\n",
       "      <td>0.120000</td>\n",
       "      <td>0.000000</td>\n",
       "      <td>0.900000</td>\n",
       "      <td>0.012000</td>\n",
       "      <td>1.000000</td>\n",
       "      <td>6.000000</td>\n",
       "      <td>0.990070</td>\n",
       "      <td>2.740000</td>\n",
       "      <td>0.330000</td>\n",
       "      <td>8.400000</td>\n",
       "      <td>3.000000</td>\n",
       "    </tr>\n",
       "    <tr>\n",
       "      <th>25%</th>\n",
       "      <td>7.100000</td>\n",
       "      <td>0.390000</td>\n",
       "      <td>0.090000</td>\n",
       "      <td>1.900000</td>\n",
       "      <td>0.070000</td>\n",
       "      <td>7.000000</td>\n",
       "      <td>22.000000</td>\n",
       "      <td>0.995600</td>\n",
       "      <td>3.210000</td>\n",
       "      <td>0.550000</td>\n",
       "      <td>9.500000</td>\n",
       "      <td>5.000000</td>\n",
       "    </tr>\n",
       "    <tr>\n",
       "      <th>50%</th>\n",
       "      <td>7.900000</td>\n",
       "      <td>0.520000</td>\n",
       "      <td>0.260000</td>\n",
       "      <td>2.200000</td>\n",
       "      <td>0.079000</td>\n",
       "      <td>14.000000</td>\n",
       "      <td>38.000000</td>\n",
       "      <td>0.996750</td>\n",
       "      <td>3.310000</td>\n",
       "      <td>0.620000</td>\n",
       "      <td>10.200000</td>\n",
       "      <td>6.000000</td>\n",
       "    </tr>\n",
       "    <tr>\n",
       "      <th>75%</th>\n",
       "      <td>9.200000</td>\n",
       "      <td>0.640000</td>\n",
       "      <td>0.420000</td>\n",
       "      <td>2.600000</td>\n",
       "      <td>0.090000</td>\n",
       "      <td>21.000000</td>\n",
       "      <td>62.000000</td>\n",
       "      <td>0.997835</td>\n",
       "      <td>3.400000</td>\n",
       "      <td>0.730000</td>\n",
       "      <td>11.100000</td>\n",
       "      <td>6.000000</td>\n",
       "    </tr>\n",
       "    <tr>\n",
       "      <th>max</th>\n",
       "      <td>15.900000</td>\n",
       "      <td>1.580000</td>\n",
       "      <td>1.000000</td>\n",
       "      <td>15.500000</td>\n",
       "      <td>0.611000</td>\n",
       "      <td>72.000000</td>\n",
       "      <td>289.000000</td>\n",
       "      <td>1.003690</td>\n",
       "      <td>4.010000</td>\n",
       "      <td>2.000000</td>\n",
       "      <td>14.900000</td>\n",
       "      <td>8.000000</td>\n",
       "    </tr>\n",
       "  </tbody>\n",
       "</table>\n",
       "</div>"
      ],
      "text/plain": [
       "       fixed acidity  volatile acidity  citric acid  residual sugar  \\\n",
       "count    1599.000000       1599.000000  1599.000000     1599.000000   \n",
       "mean        8.319637          0.527821     0.270976        2.538806   \n",
       "std         1.741096          0.179060     0.194801        1.409928   \n",
       "min         4.600000          0.120000     0.000000        0.900000   \n",
       "25%         7.100000          0.390000     0.090000        1.900000   \n",
       "50%         7.900000          0.520000     0.260000        2.200000   \n",
       "75%         9.200000          0.640000     0.420000        2.600000   \n",
       "max        15.900000          1.580000     1.000000       15.500000   \n",
       "\n",
       "         chlorides  free sulfur dioxide  total sulfur dioxide      density  \\\n",
       "count  1599.000000          1599.000000           1599.000000  1599.000000   \n",
       "mean      0.087467            15.874922             46.467792     0.996747   \n",
       "std       0.047065            10.460157             32.895324     0.001887   \n",
       "min       0.012000             1.000000              6.000000     0.990070   \n",
       "25%       0.070000             7.000000             22.000000     0.995600   \n",
       "50%       0.079000            14.000000             38.000000     0.996750   \n",
       "75%       0.090000            21.000000             62.000000     0.997835   \n",
       "max       0.611000            72.000000            289.000000     1.003690   \n",
       "\n",
       "                pH    sulphates      alcohol      quality  \n",
       "count  1599.000000  1599.000000  1599.000000  1599.000000  \n",
       "mean      3.311113     0.658149    10.422983     5.636023  \n",
       "std       0.154386     0.169507     1.065668     0.807569  \n",
       "min       2.740000     0.330000     8.400000     3.000000  \n",
       "25%       3.210000     0.550000     9.500000     5.000000  \n",
       "50%       3.310000     0.620000    10.200000     6.000000  \n",
       "75%       3.400000     0.730000    11.100000     6.000000  \n",
       "max       4.010000     2.000000    14.900000     8.000000  "
      ]
     },
     "execution_count": 183,
     "metadata": {},
     "output_type": "execute_result"
    }
   ],
   "source": [
    "wineData.describe()"
   ]
  },
  {
   "cell_type": "code",
   "execution_count": 184,
   "metadata": {},
   "outputs": [
    {
     "data": {
      "text/plain": [
       "fixed acidity           0\n",
       "volatile acidity        0\n",
       "citric acid             0\n",
       "residual sugar          0\n",
       "chlorides               0\n",
       "free sulfur dioxide     0\n",
       "total sulfur dioxide    0\n",
       "density                 0\n",
       "pH                      0\n",
       "sulphates               0\n",
       "alcohol                 0\n",
       "quality                 0\n",
       "dtype: int64"
      ]
     },
     "execution_count": 184,
     "metadata": {},
     "output_type": "execute_result"
    }
   ],
   "source": [
    "wineData.isnull().sum()"
   ]
  },
  {
   "cell_type": "code",
   "execution_count": 185,
   "metadata": {},
   "outputs": [
    {
     "data": {
      "text/plain": [
       "array([5, 6, 7, 4, 8, 3], dtype=int64)"
      ]
     },
     "execution_count": 185,
     "metadata": {},
     "output_type": "execute_result"
    }
   ],
   "source": [
    "wineData['quality'].unique()"
   ]
  },
  {
   "cell_type": "code",
   "execution_count": 187,
   "metadata": {},
   "outputs": [
    {
     "data": {
      "text/plain": [
       "3     10\n",
       "4     53\n",
       "5    681\n",
       "6    638\n",
       "7    199\n",
       "8     18\n",
       "Name: quality, dtype: int64"
      ]
     },
     "execution_count": 187,
     "metadata": {},
     "output_type": "execute_result"
    }
   ],
   "source": [
    "wineData.quality.value_counts().sort_index()"
   ]
  },
  {
   "cell_type": "code",
   "execution_count": 188,
   "metadata": {},
   "outputs": [
    {
     "data": {
      "text/plain": [
       "<matplotlib.axes._subplots.AxesSubplot at 0xad9cf8c048>"
      ]
     },
     "execution_count": 188,
     "metadata": {},
     "output_type": "execute_result"
    },
    {
     "data": {
      "image/png": "[encoded data removed]",
      "text/plain": [
       "<Figure size 432x288 with 1 Axes>"
      ]
     },
     "metadata": {},
     "output_type": "display_data"
    }
   ],
   "source": [
    "#Quality Countplot \n",
    "sns.countplot(x='quality', data=wineData)"
   ]
  },
  {
   "cell_type": "code",
   "execution_count": 189,
   "metadata": {},
   "outputs": [
    {
     "data": {
      "text/plain": [
       "<matplotlib.axes._subplots.AxesSubplot at 0xad9cf80588>"
      ]
     },
     "execution_count": 189,
     "metadata": {},
     "output_type": "execute_result"
    },
    {
     "data": {
      "image/png": "[encoded data removed]",
      "text/plain": [
       "<Figure size 864x360 with 2 Axes>"
      ]
     },
     "metadata": {},
     "output_type": "display_data"
    }
   ],
   "source": [
    "#HeatMap plot for correlation\n",
    "correlation = wineData.corr()\n",
    "plt.figure(figsize=(12, 5))\n",
    "sns.heatmap(correlation, annot=True, linewidths=0, vmin=-1, cmap=\"RdBu_r\")"
   ]
  },
  {
   "cell_type": "code",
   "execution_count": 190,
   "metadata": {},
   "outputs": [
    {
     "data": {
      "text/plain": [
       "quality                 1.000000\n",
       "alcohol                 0.476166\n",
       "sulphates               0.251397\n",
       "citric acid             0.226373\n",
       "fixed acidity           0.124052\n",
       "residual sugar          0.013732\n",
       "free sulfur dioxide    -0.050656\n",
       "pH                     -0.057731\n",
       "chlorides              -0.128907\n",
       "density                -0.174919\n",
       "total sulfur dioxide   -0.185100\n",
       "volatile acidity       -0.390558\n",
       "Name: quality, dtype: float64"
      ]
     },
     "execution_count": 190,
     "metadata": {},
     "output_type": "execute_result"
    }
   ],
   "source": [
    "correlation['quality'].sort_values(ascending=False)"
   ]
  },
  {
   "cell_type": "markdown",
   "metadata": {},
   "source": [
    "It can be observed that, the 'alcohol, sulphates, citric_acid & fixed_acidity' have maximum corelation with response variable 'quality'.\n",
    "\n",
    "This means that, they need to be further analysed for detailed pattern and corelation exploration. Hence, only these 4 variables are analysed in detail."
   ]
  },
  {
   "cell_type": "code",
   "execution_count": 192,
   "metadata": {},
   "outputs": [
    {
     "data": {
      "text/plain": [
       "[Text(0,0.5,'Alcohol Percent'),\n",
       " Text(0.5,0,'Wine Quality'),\n",
       " Text(0.5,1,'Alcohol percent in different wine quality types')]"
      ]
     },
     "execution_count": 192,
     "metadata": {},
     "output_type": "execute_result"
    },
    {
     "data": {
      "image/png": "[encoded data removed]",
      "text/plain": [
       "<Figure size 432x288 with 1 Axes>"
      ]
     },
     "metadata": {},
     "output_type": "display_data"
    }
   ],
   "source": [
    "bx = sns.boxplot(x=\"quality\", y='alcohol', data = wineData)\n",
    "bx.set(xlabel='Wine Quality', ylabel='Alcohol Percent', title='Alcohol percent in different wine quality types')"
   ]
  },
  {
   "cell_type": "code",
   "execution_count": 194,
   "metadata": {},
   "outputs": [
    {
     "data": {
      "text/plain": [
       "average    1319\n",
       "good        217\n",
       "bad          63\n",
       "Name: rating, dtype: int64"
      ]
     },
     "execution_count": 194,
     "metadata": {},
     "output_type": "execute_result"
    }
   ],
   "source": [
    "conditions = [(wineData['quality'] >= 7),(wineData['quality'] <= 4)]\n",
    "rating = ['good', 'bad']\n",
    "wineData['rating'] = np.select(conditions, rating, default='average')\n",
    "wineData.rating.value_counts()"
   ]
  },
  {
   "cell_type": "code",
   "execution_count": 195,
   "metadata": {},
   "outputs": [
    {
     "data": {
      "text/plain": [
       "[Text(0,0.5,'Sulphates'),\n",
       " Text(0.5,0,'Wine Ratings'),\n",
       " Text(0.5,1,'Sulphates in different types of Wine ratings')]"
      ]
     },
     "execution_count": 195,
     "metadata": {},
     "output_type": "execute_result"
    },
    {
     "data": {
      "image/png": "[encoded data removed]",
      "text/plain": [
       "<Figure size 432x288 with 1 Axes>"
      ]
     },
     "metadata": {},
     "output_type": "display_data"
    }
   ],
   "source": [
    "bx = sns.boxplot(x=\"rating\", y='sulphates', data = wineData)\n",
    "bx.set(xlabel='Wine Ratings', ylabel='Sulphates', title='Sulphates in different types of Wine ratings')"
   ]
  },
  {
   "cell_type": "code",
   "execution_count": 199,
   "metadata": {},
   "outputs": [
    {
     "data": {
      "text/plain": [
       "[Text(0,0.5,'Citric Acid'),\n",
       " Text(0.5,0,'Wine Ratings'),\n",
       " Text(0.5,1,'Citric_acid in different types of Wine ratings')]"
      ]
     },
     "execution_count": 199,
     "metadata": {},
     "output_type": "execute_result"
    },
    {
     "data": {
      "image/png": "[encoded data removed]",
      "text/plain": [
       "<Figure size 432x288 with 1 Axes>"
      ]
     },
     "metadata": {},
     "output_type": "display_data"
    }
   ],
   "source": [
    "bx = sns.boxplot(x=\"rating\", y='citric acid', data = wineData)\n",
    "bx.set(xlabel='Wine Ratings', ylabel='Citric Acid', title='Citric_acid in different types of Wine ratings')"
   ]
  },
  {
   "cell_type": "code",
   "execution_count": 198,
   "metadata": {},
   "outputs": [
    {
     "data": {
      "text/plain": [
       "[Text(0,0.5,'Fixed Acidity'),\n",
       " Text(0.5,0,'Wine Ratings'),\n",
       " Text(0.5,1,'Fixed Acidity in different types of Wine ratings')]"
      ]
     },
     "execution_count": 198,
     "metadata": {},
     "output_type": "execute_result"
    },
    {
     "data": {
      "image/png": "[encoded data removed]",
      "text/plain": [
       "<Figure size 432x288 with 1 Axes>"
      ]
     },
     "metadata": {},
     "output_type": "display_data"
    }
   ],
   "source": [
    "bx = sns.boxplot(x=\"rating\", y='fixed acidity', data = wineData)\n",
    "bx.set(xlabel='Wine Ratings', ylabel='Fixed Acidity', title='Fixed Acidity in different types of Wine ratings')"
   ]
  },
  {
   "cell_type": "code",
   "execution_count": 202,
   "metadata": {},
   "outputs": [
    {
     "data": {
      "text/plain": [
       "[Text(0,0.5,'pH'),\n",
       " Text(0.5,0,'Wine Ratings'),\n",
       " Text(0.5,1,'pH in different types of Wine ratings')]"
      ]
     },
     "execution_count": 202,
     "metadata": {},
     "output_type": "execute_result"
    },
    {
     "data": {
      "image/png": "[encoded data removed]",
      "text/plain": [
       "<Figure size 432x288 with 1 Axes>"
      ]
     },
     "metadata": {},
     "output_type": "display_data"
    }
   ],
   "source": [
    "bx = sns.boxplot(x=\"rating\", y=\"pH\", data = wineData);\n",
    "bx.set(xlabel='Wine Ratings', ylabel='pH', title='pH in different types of Wine ratings')"
   ]
  },
  {
   "cell_type": "code",
   "execution_count": 43,
   "metadata": {},
   "outputs": [],
   "source": [
    "class mf():\n",
    "    def __init__(self,R,K=40,item_fact_reg=0.0,user_fact_reg=0.0,item_bias_reg=0.0,user_bias_reg=0.0,verbose=False):             \n",
    "        self.R = R\n",
    "        self.n_users, self.n_items = R.shape\n",
    "        self.K = K\n",
    "        self.item_fact_reg = item_fact_reg\n",
    "        self.user_fact_reg = user_fact_reg\n",
    "        self.item_bias_reg = item_bias_reg\n",
    "        self.user_bias_reg = user_bias_reg\n",
    "        self.sample_row, self.sample_col = self.R.nonzero()\n",
    "        self.n_samples = len(self.sample_row)\n",
    "        self._v = verbose  \n",
    "    def sgd(self):\n",
    "        for idx in self.training_indices:\n",
    "            u = self.sample_row[idx]\n",
    "            i = self.sample_col[idx]\n",
    "            prediction = self.predict(u, i)\n",
    "            e = (self.R[u,i] - prediction)            \n",
    "            self.user_bias[u] += self.learning_rate * (e - self.user_bias_reg * self.user_bias[u])\n",
    "            self.item_bias[i] += self.learning_rate * (e - self.item_bias_reg * self.item_bias[i])            \n",
    "            self.user_vecs[u, :] += self.learning_rate * (e * self.item_vecs[i, :] - self.user_fact_reg * self.user_vecs[u,:])\n",
    "            self.item_vecs[i, :] += self.learning_rate * (e * self.user_vecs[u, :] - self.item_fact_reg * self.item_vecs[i,:])\n",
    "    def train(self, n_iter=10, learning_rate=0.1):\n",
    "        self.user_vecs = np.random.normal(scale=1./self.K,size=(self.n_users, self.K))\n",
    "        self.item_vecs = np.random.normal(scale=1./self.K,size=(self.n_items, self.K))        \n",
    "        self.learning_rate = learning_rate\n",
    "        self.user_bias = np.zeros(self.n_users)\n",
    "        self.item_bias = np.zeros(self.n_items)\n",
    "        self.global_bias = np.mean(self.R[np.where(self.R != 0)])\n",
    "        self.partial_train(n_iter)\n",
    "    def predict(self, u, i):\n",
    "        prediction = self.global_bias + self.user_bias[u] + self.item_bias[i]\n",
    "        prediction += self.user_vecs[u, :].dot(self.item_vecs[i, :].T)\n",
    "        return prediction   \n",
    "    def partial_train(self, n_iter):\n",
    "        ctr = 1\n",
    "        while ctr <= n_iter:\n",
    "            if ctr % 10 == 0 and self._v:\n",
    "                print('\\tcurrent iteration: {}'.format(ctr))\n",
    "            self.training_indices = np.arange(self.n_samples)\n",
    "            np.random.shuffle(self.training_indices)\n",
    "            self.sgd()\n",
    "            ctr += 1   \n",
    "    def model_fit(self, iter_array, test, learning_rate=0.1):\n",
    "        iter_array.sort()\n",
    "        self.train_mse =[]\n",
    "        self.test_mse = []\n",
    "        iter_diff = 0\n",
    "        for (i, n_iter) in enumerate(iter_array):\n",
    "            if self._v:\n",
    "                print('Iteration: {}'.format(n_iter))\n",
    "            if i == 0:\n",
    "                self.train(n_iter - iter_diff, learning_rate)\n",
    "            else:\n",
    "                self.partial_train(n_iter - iter_diff)\n",
    "            predictions = self.predict_all()\n",
    "            self.train_mse += [get_mse(predictions, self.R)]\n",
    "            self.test_mse += [get_mse(predictions, test)]\n",
    "            if self._v:\n",
    "                print('Train mse: ' + str(self.train_mse[-1]))\n",
    "                print('Test mse: ' + str(self.test_mse[-1]))\n",
    "            iter_diff = n_iter\n",
    "    def predict_all(self):\n",
    "        predictions = np.zeros((self.user_vecs.shape[0],self.item_vecs.shape[0]))\n",
    "        for u in range(self.user_vecs.shape[0]):\n",
    "            for i in range(self.item_vecs.shape[0]):\n",
    "                predictions[u, i] = self.predict(u, i)                \n",
    "        return predictions   "
   ]
  },
  {
   "cell_type": "code",
   "execution_count": 63,
   "metadata": {},
   "outputs": [
    {
     "name": "stdout",
     "output_type": "stream",
     "text": [
      "\n",
      "K: 5\n",
      "Lamda: 1e-06\n",
      "Alpha: 1e-05\n",
      "Fold: 0\n",
      "Fold: 1\n",
      "Fold: 2\n",
      "\n",
      "K: 5\n",
      "Lamda: 1e-06\n",
      "Alpha: 0.0001\n",
      "Fold: 0\n",
      "Fold: 1\n",
      "Fold: 2\n",
      "\n",
      "K: 5\n",
      "Lamda: 1e-06\n",
      "Alpha: 0.001\n",
      "Fold: 0\n",
      "Fold: 1\n",
      "Fold: 2\n",
      "\n",
      "K: 5\n",
      "Lamda: 0.001\n",
      "Alpha: 1e-05\n",
      "Fold: 0\n",
      "Fold: 1\n",
      "Fold: 2\n",
      "\n",
      "K: 5\n",
      "Lamda: 0.001\n",
      "Alpha: 0.0001\n",
      "Fold: 0\n",
      "Fold: 1\n",
      "Fold: 2\n",
      "\n",
      "K: 5\n",
      "Lamda: 0.001\n",
      "Alpha: 0.001\n",
      "Fold: 0\n",
      "Fold: 1\n",
      "Fold: 2\n",
      "\n",
      "K: 5\n",
      "Lamda: 0.01\n",
      "Alpha: 1e-05\n",
      "Fold: 0\n",
      "Fold: 1\n",
      "Fold: 2\n",
      "\n",
      "K: 5\n",
      "Lamda: 0.01\n",
      "Alpha: 0.0001\n",
      "Fold: 0\n",
      "Fold: 1\n",
      "Fold: 2\n",
      "\n",
      "K: 5\n",
      "Lamda: 0.01\n",
      "Alpha: 0.001\n",
      "Fold: 0\n",
      "Fold: 1\n",
      "Fold: 2\n",
      "\n",
      "K: 20\n",
      "Lamda: 1e-06\n",
      "Alpha: 1e-05\n",
      "Fold: 0\n",
      "Fold: 1\n",
      "Fold: 2\n",
      "\n",
      "K: 20\n",
      "Lamda: 1e-06\n",
      "Alpha: 0.0001\n",
      "Fold: 0\n",
      "Fold: 1\n",
      "Fold: 2\n",
      "\n",
      "K: 20\n",
      "Lamda: 1e-06\n",
      "Alpha: 0.001\n",
      "Fold: 0\n",
      "Fold: 1\n",
      "Fold: 2\n",
      "\n",
      "K: 20\n",
      "Lamda: 0.001\n",
      "Alpha: 1e-05\n",
      "Fold: 0\n",
      "Fold: 1\n",
      "Fold: 2\n",
      "\n",
      "K: 20\n",
      "Lamda: 0.001\n",
      "Alpha: 0.0001\n",
      "Fold: 0\n",
      "Fold: 1\n",
      "Fold: 2\n",
      "\n",
      "K: 20\n",
      "Lamda: 0.001\n",
      "Alpha: 0.001\n",
      "Fold: 0\n",
      "Fold: 1\n",
      "Fold: 2\n",
      "\n",
      "K: 20\n",
      "Lamda: 0.01\n",
      "Alpha: 1e-05\n",
      "Fold: 0\n",
      "Fold: 1\n",
      "Fold: 2\n",
      "\n",
      "K: 20\n",
      "Lamda: 0.01\n",
      "Alpha: 0.0001\n",
      "Fold: 0\n",
      "Fold: 1\n",
      "Fold: 2\n",
      "\n",
      "K: 20\n",
      "Lamda: 0.01\n",
      "Alpha: 0.001\n",
      "Fold: 0\n",
      "Fold: 1\n",
      "Fold: 2\n",
      "\n",
      "K: 40\n",
      "Lamda: 1e-06\n",
      "Alpha: 1e-05\n",
      "Fold: 0\n",
      "Fold: 1\n",
      "Fold: 2\n",
      "\n",
      "K: 40\n",
      "Lamda: 1e-06\n",
      "Alpha: 0.0001\n",
      "Fold: 0\n",
      "Fold: 1\n",
      "Fold: 2\n",
      "\n",
      "K: 40\n",
      "Lamda: 1e-06\n",
      "Alpha: 0.001\n",
      "Fold: 0\n",
      "Fold: 1\n",
      "Fold: 2\n",
      "\n",
      "K: 40\n",
      "Lamda: 0.001\n",
      "Alpha: 1e-05\n",
      "Fold: 0\n",
      "Fold: 1\n",
      "Fold: 2\n",
      "\n",
      "K: 40\n",
      "Lamda: 0.001\n",
      "Alpha: 0.0001\n",
      "Fold: 0\n",
      "Fold: 1\n",
      "Fold: 2\n",
      "\n",
      "K: 40\n",
      "Lamda: 0.001\n",
      "Alpha: 0.001\n",
      "Fold: 0\n",
      "Fold: 1\n",
      "Fold: 2\n",
      "\n",
      "K: 40\n",
      "Lamda: 0.01\n",
      "Alpha: 1e-05\n",
      "Fold: 0\n",
      "Fold: 1\n",
      "Fold: 2\n",
      "\n",
      "K: 40\n",
      "Lamda: 0.01\n",
      "Alpha: 0.0001\n",
      "Fold: 0\n",
      "Fold: 1\n",
      "Fold: 2\n",
      "\n",
      "K: 40\n",
      "Lamda: 0.01\n",
      "Alpha: 0.001\n",
      "Fold: 0\n",
      "Fold: 1\n",
      "Fold: 2\n",
      "New optimal hyperparameters\n",
      "model        <__main__.ExplicitMF object at 0x000000AD88296...\n",
      "n_factors                                                    5\n",
      "rate                                                     1e-05\n",
      "reg                                                      1e-06\n",
      "test_mse                                  [1.1924495749021826]\n",
      "train_mse                                 [1.2858159820598822]\n",
      "dtype: object\n"
     ]
    }
   ],
   "source": [
    "#Matrix Factorization with 3-Fold Cross Validation & Hyperparamater Tuning for MovieLens 100k dataset\n",
    "ind = np.array(range(0, len(train)))\n",
    "folds = np.array_split(ind, 3)    \n",
    "mselist = []\n",
    "fold_mse = []\n",
    "iter_array = [10]\n",
    "k = [5, 20, 40]\n",
    "lamda = [0.001, 0.000001, 0.01]\n",
    "alpha = [0.00001, 0.0001, 0.001]\n",
    "lamda.sort()\n",
    "alpha.sort()\n",
    "best_params = {}\n",
    "best_params['k'] = k[0]\n",
    "best_params['reg'] = lamda[0]\n",
    "best_params['rate'] = alpha[0]\n",
    "best_params['train_mse'] = np.inf\n",
    "best_params['test_mse'] = np.inf\n",
    "best_params['model'] = None\n",
    "for fact in k:    \n",
    "    for reg in lamda:        \n",
    "        for rate in alpha:\n",
    "            print('\\nK: {}'.format(fact))\n",
    "            print('Lamda: {}'.format(reg))\n",
    "            print('Alpha: {}'.format(rate))\n",
    "            ##3-Fold Cross Validation\n",
    "            for i in range(0, len(folds)):\n",
    "                print('Fold: {}'.format(i))\n",
    "                validationSet = folds[i]\n",
    "                trainSet = np.setdiff1d(ind, validationSet)        \n",
    "                train_data = np.take(train, trainSet, axis = 0)\n",
    "                test_data = np.take(test, validationSet, axis = 0)\n",
    "                MF_SGD = mf(train_data, k=fact,user_fact_reg=reg, item_fact_reg=reg,\n",
    "                                user_bias_reg=reg, item_bias_reg=reg,verbose=False)\n",
    "                MF_SGD.model_fit(iter_array, test_data, alpha=rate)\n",
    "                mselist.append(MF_SGD.test_mse)  \n",
    "            fold_mse.append(np.average(mselist))\n",
    "            if fold_mse[-1] < best_params['test_mse']:\n",
    "                best_params['k'] = fact\n",
    "                best_params['reg'] = reg\n",
    "                best_params['train_mse'] = MF_SGD.train_mse\n",
    "                best_params['test_mse'] = MF_SGD.test_mse\n",
    "                best_params['model'] = MF_SGD\n",
    "print('New optimal hyperparameters')\n",
    "print(pd.Series(best_params))"
   ]
  },
  {
   "cell_type": "code",
   "execution_count": null,
   "metadata": {},
   "outputs": [],
   "source": [
    "#Fitting the Best model with 3 fold cross validation in different iterations\n",
    "iter_array = [5,10,20,40,50]\n",
    "ind = np.array(range(0, len(train)))\n",
    "folds = np.array_split(ind, 3)    \n",
    "mselist = []\n",
    "for i in range(0, len(folds)):\n",
    "    validationSet = folds[i]\n",
    "    trainSet = np.setdiff1d(ind, validationSet)        \n",
    "    train_data = np.take(train, trainSet, axis = 0)\n",
    "    test_data = np.take(test, validationSet, axis = 0)\n",
    "    best_model = mf(train_data, 5,verbose=False)\n",
    "    best_model.model_fit(iter_array, test_data, learning_rate=0.00001)\n",
    "    mselist.append(best_model.test_mse)\n",
    "np.average(mselist)   "
   ]
  },
  {
   "cell_type": "code",
   "execution_count": 76,
   "metadata": {},
   "outputs": [
    {
     "data": {
      "image/png": "[encoded data removed]",
      "text/plain": [
       "<Figure size 432x288 with 1 Axes>"
      ]
     },
     "metadata": {},
     "output_type": "display_data"
    }
   ],
   "source": [
    "#plot of Iterations vs Train and Test MSE for the Best model \n",
    "plt.plot(iter_array, best_model.train_mse,label='Training', linewidth=3)\n",
    "plt.plot(iter_array, best_model.test_mse,label='Test', linewidth=3)\n",
    "plt.xticks(fontsize=8)\n",
    "plt.yticks(fontsize=8)\n",
    "plt.xlabel('iterations', fontsize=8)\n",
    "plt.ylabel('MSE', fontsize=8)\n",
    "plt.legend(loc='upper right', fontsize=8)\n",
    "plt.show()"
   ]
  },
  {
   "cell_type": "markdown",
   "metadata": {},
   "source": [
    "### Recommender Systems using matrix factorization libmf /sckit-learn"
   ]
  },
  {
   "cell_type": "code",
   "execution_count": 144,
   "metadata": {},
   "outputs": [],
   "source": [
    "from sklearn.decomposition import NMF\n",
    "from sklearn.metrics import mean_squared_error \n",
    "def get_rmse(pred,actual):\n",
    "    pred = pred[actual.nonzero()].flatten()\n",
    "    actual = actual[actual.nonzero()].flatten()\n",
    "    return np.sqrt(mean_squared_error(pred,actual))\n"
   ]
  },
  {
   "cell_type": "code",
   "execution_count": 147,
   "metadata": {},
   "outputs": [
    {
     "name": "stdout",
     "output_type": "stream",
     "text": [
      "\n",
      "K: 5\n",
      "Lamda: 1e-06\n",
      "Fold: 0\n",
      "violation: 1.0\n",
      "violation: 0.4940056198216629\n",
      "violation: 0.35121506803641306\n",
      "violation: 0.26244606105274126\n",
      "violation: 0.20397261399733035\n",
      "violation: 0.16445072094327232\n",
      "violation: 0.1361291846708456\n",
      "violation: 0.11616723075052436\n",
      "violation: 0.10203163145848242\n",
      "violation: 0.09115021643584816\n",
      "Fold: 1\n",
      "violation: 1.0\n",
      "violation: 0.4569175023806255\n",
      "violation: 0.32061588441206174\n",
      "violation: 0.24953845942071085\n",
      "violation: 0.20354514888504582\n",
      "violation: 0.1756257057570779\n",
      "violation: 0.15596027690806685\n",
      "violation: 0.1419832027450067\n",
      "violation: 0.1305737540235711\n",
      "violation: 0.12055386466261528\n",
      "Fold: 2\n",
      "violation: 1.0\n",
      "violation: 0.5335990379667765\n",
      "violation: 0.3802215718148848\n",
      "violation: 0.28642494342487723\n",
      "violation: 0.22150434061209817\n",
      "violation: 0.17428417460996795\n",
      "violation: 0.14102658703356047\n",
      "violation: 0.11473989914145301\n",
      "violation: 0.09255394565128477\n",
      "violation: 0.07551542450008228\n",
      "\n",
      "K: 5\n",
      "Lamda: 0.001\n",
      "Fold: 0\n",
      "violation: 1.0\n",
      "violation: 0.49406071961799847\n",
      "violation: 0.35121072088334826\n",
      "violation: 0.26243814691819206\n",
      "violation: 0.20396455378846243\n",
      "violation: 0.16444311169472017\n",
      "violation: 0.1361233403955162\n",
      "violation: 0.1161628124366003\n",
      "violation: 0.10203114073695624\n",
      "violation: 0.09114701476115086\n",
      "Fold: 1\n",
      "violation: 1.0\n",
      "violation: 0.45682324072961067\n",
      "violation: 0.3206310958527577\n",
      "violation: 0.24949495926503742\n",
      "violation: 0.20350949646756322\n",
      "violation: 0.17559619961566472\n",
      "violation: 0.15593502113700586\n",
      "violation: 0.1419664106119422\n",
      "violation: 0.1305546882850731\n",
      "violation: 0.12053670849641451\n",
      "Fold: 2\n",
      "violation: 1.0\n",
      "violation: 0.5336240511046275\n",
      "violation: 0.38024665509916483\n",
      "violation: 0.28615895043505446\n",
      "violation: 0.22150147136929774\n",
      "violation: 0.1742690978869369\n",
      "violation: 0.14100562747523743\n",
      "violation: 0.11470218452128574\n",
      "violation: 0.09250195562599643\n",
      "violation: 0.07546992875535896\n",
      "\n",
      "K: 5\n",
      "Lamda: 0.01\n",
      "Fold: 0\n",
      "violation: 1.0\n",
      "violation: 0.49404244275154074\n",
      "violation: 0.35120421196455825\n",
      "violation: 0.26243892651486267\n",
      "violation: 0.20396726276337096\n",
      "violation: 0.16444515068660004\n",
      "violation: 0.1361243782668048\n",
      "violation: 0.11617203346246387\n",
      "violation: 0.10203254663668826\n",
      "violation: 0.09114900907588668\n",
      "Fold: 1\n",
      "violation: 1.0\n",
      "violation: 0.45689949336004365\n",
      "violation: 0.32068413972255544\n",
      "violation: 0.24954047234863028\n",
      "violation: 0.20354722442921896\n",
      "violation: 0.1756232886236604\n",
      "violation: 0.15595490262035525\n",
      "violation: 0.1419760673916913\n",
      "violation: 0.13056517758503702\n",
      "violation: 0.12054451131324331\n",
      "Fold: 2\n",
      "violation: 1.0\n",
      "violation: 0.5335941881573096\n",
      "violation: 0.3802153690110777\n",
      "violation: 0.28641579450361004\n",
      "violation: 0.22149367075138635\n",
      "violation: 0.17427378203382723\n",
      "violation: 0.14101530583956803\n",
      "violation: 0.11472993331225273\n",
      "violation: 0.09254423024827683\n",
      "violation: 0.07550052196104977\n",
      "\n",
      "K: 20\n",
      "Lamda: 1e-06\n",
      "Fold: 0\n",
      "violation: 1.0\n",
      "violation: 0.36392706539336045\n",
      "violation: 0.2602393071325955\n",
      "violation: 0.19017830415466644\n",
      "violation: 0.14424974581481548\n",
      "violation: 0.11544104731570652\n",
      "violation: 0.09563189122640521\n",
      "violation: 0.08002566460777918\n",
      "violation: 0.069259814380282\n",
      "violation: 0.06093185827200826\n",
      "Fold: 1\n",
      "violation: 1.0\n",
      "violation: 0.3664890856358136\n",
      "violation: 0.25856349666529166\n",
      "violation: 0.1957580358960736\n",
      "violation: 0.15105745971768159\n",
      "violation: 0.12067983018544022\n",
      "violation: 0.09943164397426063\n",
      "violation: 0.08372121814621401\n",
      "violation: 0.07274931941155652\n",
      "violation: 0.06447402642055189\n",
      "Fold: 2\n",
      "violation: 1.0\n",
      "violation: 0.3524172511260278\n",
      "violation: 0.24470406451353616\n",
      "violation: 0.19580574238208642\n",
      "violation: 0.17167947277195494\n",
      "violation: 0.15426176602298128\n",
      "violation: 0.1357855419575707\n",
      "violation: 0.11439992858601927\n",
      "violation: 0.09582116088499641\n",
      "violation: 0.08183106539330944\n",
      "\n",
      "K: 20\n",
      "Lamda: 0.001\n",
      "Fold: 0\n",
      "violation: 1.0\n",
      "violation: 0.3627538453928625\n",
      "violation: 0.2611797306164626\n",
      "violation: 0.1896935189167177\n",
      "violation: 0.14390066067822133\n",
      "violation: 0.11512703074851445\n",
      "violation: 0.09588857269700839\n",
      "violation: 0.08037750594066852\n",
      "violation: 0.06938942332034825\n",
      "violation: 0.06111330682172065\n",
      "Fold: 1\n",
      "violation: 1.0\n",
      "violation: 0.35981705187280655\n",
      "violation: 0.24967675053236726\n",
      "violation: 0.19079560207330232\n",
      "violation: 0.14914183357139615\n",
      "violation: 0.12017243715046791\n",
      "violation: 0.10037520029744741\n",
      "violation: 0.08692414586241742\n",
      "violation: 0.07727968932916934\n",
      "violation: 0.0694707242019291\n",
      "Fold: 2\n",
      "violation: 1.0\n",
      "violation: 0.3558552478387398\n",
      "violation: 0.2526976058482651\n",
      "violation: 0.20410845314409395\n",
      "violation: 0.17645731430347805\n",
      "violation: 0.15102492783765575\n",
      "violation: 0.12731223193672256\n",
      "violation: 0.10568746420284109\n",
      "violation: 0.08678977290933691\n",
      "violation: 0.07273354100678862\n",
      "\n",
      "K: 20\n",
      "Lamda: 0.01\n",
      "Fold: 0\n",
      "violation: 1.0\n",
      "violation: 0.3637373909961517\n",
      "violation: 0.2596111634865028\n",
      "violation: 0.1849446047324831\n",
      "violation: 0.1362964092917086\n",
      "violation: 0.10616694278444647\n",
      "violation: 0.08891613070887172\n",
      "violation: 0.07842232712258192\n",
      "violation: 0.07174687582067639\n",
      "violation: 0.06697846089849252\n",
      "Fold: 1\n",
      "violation: 1.0\n",
      "violation: 0.36080013961421775\n",
      "violation: 0.24620944766978994\n",
      "violation: 0.18986180079386517\n",
      "violation: 0.1508017066982606\n",
      "violation: 0.12228787662561058\n",
      "violation: 0.10206188461135088\n",
      "violation: 0.08673811511218969\n",
      "violation: 0.0762333717077109\n",
      "violation: 0.06785700752429392\n",
      "Fold: 2\n",
      "violation: 1.0\n",
      "violation: 0.3560603201194022\n",
      "violation: 0.24667933224295063\n",
      "violation: 0.19668023018816796\n",
      "violation: 0.17067525914744322\n",
      "violation: 0.14761431545427334\n",
      "violation: 0.12622559510904074\n",
      "violation: 0.10532352131647037\n",
      "violation: 0.08969502780781681\n",
      "violation: 0.07942882542075486\n",
      "\n",
      "K: 40\n",
      "Lamda: 1e-06\n",
      "Fold: 0\n",
      "violation: 1.0\n",
      "violation: 0.33909645182053366\n",
      "violation: 0.2136201408384094\n",
      "violation: 0.1572982781039677\n",
      "violation: 0.12352413399546561\n",
      "violation: 0.10120139848739136\n",
      "violation: 0.0862857728047127\n",
      "violation: 0.07598322259758127\n",
      "violation: 0.06823106743487463\n",
      "violation: 0.06197553634856573\n",
      "Fold: 1\n",
      "violation: 1.0\n",
      "violation: 0.33826625459693527\n",
      "violation: 0.20917191509573246\n",
      "violation: 0.1466019694604179\n",
      "violation: 0.11369873310146106\n",
      "violation: 0.09670195149217047\n",
      "violation: 0.08620615691598357\n",
      "violation: 0.07849915950879968\n",
      "violation: 0.07249732786677812\n",
      "violation: 0.06786179064955125\n",
      "Fold: 2\n",
      "violation: 1.0\n",
      "violation: 0.3310210960091723\n",
      "violation: 0.2152745777485706\n",
      "violation: 0.17296690137986054\n",
      "violation: 0.14044063854209413\n",
      "violation: 0.11724990067331881\n",
      "violation: 0.1008202169000882\n",
      "violation: 0.08673037701627004\n",
      "violation: 0.07620857341327042\n",
      "violation: 0.06744929302516806\n",
      "\n",
      "K: 40\n",
      "Lamda: 0.001\n",
      "Fold: 0\n",
      "violation: 1.0\n",
      "violation: 0.33680457114910295\n",
      "violation: 0.21033489462812988\n",
      "violation: 0.15390092036289882\n",
      "violation: 0.12223369139399283\n",
      "violation: 0.10083906064554467\n",
      "violation: 0.08700314292282424\n",
      "violation: 0.07756728933539714\n",
      "violation: 0.06923519540254852\n",
      "violation: 0.062388696096218735\n",
      "Fold: 1\n",
      "violation: 1.0\n",
      "violation: 0.3415303319027005\n",
      "violation: 0.21110276118963667\n",
      "violation: 0.15654867732413202\n",
      "violation: 0.12475179807765341\n",
      "violation: 0.10652437004084216\n",
      "violation: 0.09325111699878592\n",
      "violation: 0.08290432833286324\n",
      "violation: 0.07405473805617319\n",
      "violation: 0.06564878067396378\n",
      "Fold: 2\n",
      "violation: 1.0\n",
      "violation: 0.3291202011634764\n",
      "violation: 0.2166611965988857\n",
      "violation: 0.1738039494617888\n",
      "violation: 0.14175386898796058\n",
      "violation: 0.1199343310848767\n",
      "violation: 0.10150506255565511\n",
      "violation: 0.08706194828073842\n",
      "violation: 0.07538924751794586\n",
      "violation: 0.06606281623087933\n",
      "\n",
      "K: 40\n",
      "Lamda: 0.01\n",
      "Fold: 0\n",
      "violation: 1.0\n",
      "violation: 0.3327175348850641\n",
      "violation: 0.2086650878466984\n",
      "violation: 0.15155569124175447\n",
      "violation: 0.11703101758511576\n",
      "violation: 0.09637528024425786\n",
      "violation: 0.08325151746015172\n",
      "violation: 0.07502924877771813\n",
      "violation: 0.06856511080796465\n",
      "violation: 0.06316256272624435\n",
      "Fold: 1\n",
      "violation: 1.0\n",
      "violation: 0.33448597159569726\n",
      "violation: 0.20947308692616645\n",
      "violation: 0.15254524759189178\n",
      "violation: 0.11943845321120405\n",
      "violation: 0.10111026886171652\n",
      "violation: 0.09057046710991011\n",
      "violation: 0.08208597780572587\n",
      "violation: 0.07420900202123634\n",
      "violation: 0.0668730114970573\n",
      "Fold: 2\n",
      "violation: 1.0\n",
      "violation: 0.3299045206903348\n",
      "violation: 0.21685115743775926\n",
      "violation: 0.17567377312527016\n",
      "violation: 0.14371979135748225\n",
      "violation: 0.1183082096420659\n",
      "violation: 0.09865065545580079\n",
      "violation: 0.08383057469068567\n",
      "violation: 0.07325240862775029\n",
      "violation: 0.06593161959079363\n"
     ]
    },
    {
     "name": "stdout",
     "output_type": "stream",
     "text": [
      "New optimal hyperparameters\n",
      "model             NaN\n",
      "n_factors    5.000000\n",
      "rate         0.000010\n",
      "reg          0.000001\n",
      "test_mse     3.168898\n",
      "train_mse         inf\n",
      "dtype: float64\n"
     ]
    }
   ],
   "source": [
    "#Matrix Factorization with 3-Fold Cross Validation & Hyperparamater Tuning with built-in NMF package\n",
    "ind = np.array(range(0, len(train)))\n",
    "folds = np.array_split(ind, 3)    \n",
    "mselist = []\n",
    "fold_mse = []\n",
    "iter_array = [10]\n",
    "latent_factors = [5, 20, 40]\n",
    "regularizations = [0.001, 0.000001, 0.01]\n",
    "regularizations.sort()\n",
    "best_params = {}\n",
    "best_params['n_factors'] = latent_factors[0]\n",
    "best_params['reg'] = regularizations[0]\n",
    "best_params['test_mse'] = np.inf\n",
    "best_params['model'] = None\n",
    "for fact in latent_factors:    \n",
    "    for reg in regularizations:        \n",
    "        print('\\nK: {}'.format(fact))\n",
    "        print('Lamda: {}'.format(reg))\n",
    "        for i in range(0, len(folds)):\n",
    "            print('Fold: {}'.format(i))\n",
    "            validationSet = folds[i]\n",
    "            trainSet = np.setdiff1d(ind, validationSet)        \n",
    "            train_data = np.take(train, trainSet, axis = 0)\n",
    "            test_data = np.take(test, validationSet, axis = 0)\n",
    "            model_NMF = NMF(n_components=fact,alpha=reg,l1_ratio=0.01,verbose=True,max_iter =10, solver = 'cd')\n",
    "            w=model_NMF.fit_transform(train_data) \n",
    "            h=model_NMF.components_\n",
    "            pred=np.dot(w,h)                        \n",
    "            mselist.append(get_rmse(pred,test_data))  \n",
    "        fold_mse.append(np.average(mselist))\n",
    "        if fold_mse[-1] < best_params['test_mse']:\n",
    "            best_params['n_factors'] = fact\n",
    "            best_params['reg'] = reg\n",
    "            best_params['test_mse'] = mselist[-1]\n",
    "print('New optimal hyperparameters')\n",
    "print(pd.Series(best_params))"
   ]
  },
  {
   "cell_type": "code",
   "execution_count": 152,
   "metadata": {},
   "outputs": [
    {
     "name": "stdout",
     "output_type": "stream",
     "text": [
      "violation: 1.0\n",
      "violation: 0.4605790684038458\n",
      "violation: 0.3493951699495355\n",
      "violation: 0.30866355215526103\n",
      "violation: 0.2832453065000314\n",
      "violation: 0.24421712666919476\n",
      "violation: 0.1998323335854773\n",
      "violation: 0.16291638646505105\n",
      "violation: 0.13691359185124868\n",
      "violation: 0.11884281967154918\n",
      "violation: 1.0\n",
      "violation: 0.4605843649489624\n",
      "violation: 0.3494046583305781\n",
      "violation: 0.3086738232914556\n",
      "violation: 0.28324771592891623\n",
      "violation: 0.24421132910136853\n",
      "violation: 0.19982593671764765\n",
      "violation: 0.16291201755254955\n",
      "violation: 0.13691071859293952\n",
      "violation: 0.11884105861290464\n",
      "violation: 1.0\n",
      "violation: 0.4605825002563478\n",
      "violation: 0.34940553299514926\n",
      "violation: 0.3086758168243264\n",
      "violation: 0.28320456390941084\n",
      "violation: 0.24420828501716021\n",
      "violation: 0.19982334471229796\n",
      "violation: 0.16291020679884793\n",
      "violation: 0.13690961013642206\n",
      "violation: 0.11884040535883675\n",
      "violation: 1.0\n",
      "violation: 0.4605800298932714\n",
      "violation: 0.34940009861903115\n",
      "violation: 0.3086693292434772\n",
      "violation: 0.2832036290887047\n",
      "violation: 0.24421264228642223\n",
      "violation: 0.1998282191842608\n",
      "violation: 0.16291369888217982\n",
      "violation: 0.13691203118831022\n",
      "violation: 0.11884196173780012\n",
      "violation: 1.0\n",
      "violation: 0.46058828503492305\n",
      "violation: 0.349424491978556\n",
      "violation: 0.3086940879716344\n",
      "violation: 0.2832090549862813\n",
      "violation: 0.24419833734506796\n",
      "violation: 0.19981272050251986\n",
      "violation: 0.1629039636977721\n",
      "violation: 0.1369062575274317\n",
      "violation: 0.11883889818693728\n"
     ]
    },
    {
     "data": {
      "text/plain": [
       "3.1860138574457038"
      ]
     },
     "execution_count": 152,
     "metadata": {},
     "output_type": "execute_result"
    }
   ],
   "source": [
    "#plot of Iterations vs Train and Test MSE for the Best model \n",
    "iter_array = [5,10,20,40,50]\n",
    "ind = np.array(range(0, len(train)))\n",
    "folds = np.array_split(ind, 5)    \n",
    "mselist = []\n",
    "for i in range(0, len(folds)):\n",
    "    validationSet = folds[i]\n",
    "    trainSet = np.setdiff1d(ind, validationSet)        \n",
    "    train_data = np.take(train, trainSet, axis = 0)\n",
    "    test_data = np.take(test, validationSet, axis = 0)\n",
    "    model_NMF = NMF(n_components=5,alpha=0.000001,l1_ratio=0.01,verbose=True,max_iter =10, solver = 'cd')\n",
    "    w=model_NMF.fit_transform(train) \n",
    "    h=model_NMF.components_\n",
    "    pred=np.dot(w,h)    \n",
    "    mselist.append(get_rmse(pred,test_data))\n",
    "np.average(mselist)"
   ]
  },
  {
   "cell_type": "code",
   "execution_count": 217,
   "metadata": {},
   "outputs": [
    {
     "data": {
      "image/png": "[encoded data removed]",
      "text/plain": [
       "<Figure size 432x288 with 1 Axes>"
      ]
     },
     "metadata": {},
     "output_type": "display_data"
    }
   ],
   "source": [
    "plt.title(\"Iterations vs testMSE using Builtin NMF function\")\n",
    "plt.plot(iter_array, mselist, linewidth=3)\n",
    "plt.xticks(fontsize=8)\n",
    "plt.yticks(fontsize=8)\n",
    "plt.xlabel('iterations', fontsize=8)\n",
    "plt.ylabel('MSE', fontsize=8)\n",
    "plt.show()"
   ]
  },
  {
   "cell_type": "markdown",
   "metadata": {},
   "source": [
    "### Recommender Systems using matrix factorization using surprise package"
   ]
  },
  {
   "cell_type": "code",
   "execution_count": 83,
   "metadata": {},
   "outputs": [],
   "source": [
    "from surprise import SVDpp\n",
    "from surprise import SVD\n",
    "from surprise import Dataset\n",
    "from surprise import accuracy\n",
    "from surprise.model_selection import train_test_split\n",
    "from surprise.model_selection import GridSearchCV\n",
    "from surprise.model_selection import cross_validate\n",
    "data = Dataset.load_builtin('ml-100k')\n",
    "trainset, testset = train_test_split(data, test_size=.15)\n",
    "param_grid = {'n_factors': [10, 20, 30, 40], 'n_epochs': [4, 8, 10], 'lr_all': [0.001, 0.003, 0.005],\n",
    "              'reg_all': [0.08, 0.1, 0.15]}"
   ]
  },
  {
   "cell_type": "code",
   "execution_count": 84,
   "metadata": {},
   "outputs": [],
   "source": [
    "gs = GridSearchCV(SVD, param_grid, measures=['rmse'], cv=3)"
   ]
  },
  {
   "cell_type": "code",
   "execution_count": 85,
   "metadata": {},
   "outputs": [
    {
     "name": "stdout",
     "output_type": "stream",
     "text": [
      "0.9498108131459398\n",
      "{'reg_all': 0.08, 'lr_all': 0.005, 'n_epochs': 10, 'n_factors': 10}\n",
      "Evaluating RMSE, MAE of algorithm SVD on 3 split(s).\n",
      "\n",
      "                  Fold 1  Fold 2  Fold 3  Mean    Std     \n",
      "RMSE (testset)    0.9458  0.9466  0.9578  0.9500  0.0055  \n",
      "MAE (testset)     0.7479  0.7539  0.7602  0.7540  0.0050  \n",
      "Fit time          2.28    2.24    2.25    2.25    0.02    \n",
      "Test time         1.04    1.04    0.87    0.98    0.08    \n"
     ]
    },
    {
     "data": {
      "text/plain": [
       "{'fit_time': (2.2816412448883057, 2.2355852127075195, 2.245788097381592),\n",
       " 'test_mae': array([0.74791952, 0.75391206, 0.76015556]),\n",
       " 'test_rmse': array([0.94575379, 0.9465574 , 0.95779011]),\n",
       " 'test_time': (1.0377955436706543, 1.0382351875305176, 0.8676130771636963)}"
      ]
     },
     "execution_count": 85,
     "metadata": {},
     "output_type": "execute_result"
    }
   ],
   "source": [
    "gs.fit(data)\n",
    "algo = gs.best_estimator['rmse']\n",
    "print(gs.best_score['rmse'])\n",
    "print(gs.best_params['rmse'])\n",
    "cross_validate(algo, data, measures=['RMSE', 'MAE'], cv=3, verbose=True)"
   ]
  },
  {
   "cell_type": "code",
   "execution_count": 89,
   "metadata": {},
   "outputs": [],
   "source": [
    "param_grid1 = {'n_factors': [5, 20, 40], 'n_epochs': [5,10,20,40,50], 'lr_all': [0.00001, 0.0001, 0.001],\n",
    "              'reg_all': [0.001, 0.000001, 0.01]}"
   ]
  },
  {
   "cell_type": "code",
   "execution_count": 90,
   "metadata": {},
   "outputs": [
    {
     "name": "stdout",
     "output_type": "stream",
     "text": [
      "0.9481462232526462\n",
      "{'reg_all': 1e-06, 'lr_all': 0.001, 'n_epochs': 50, 'n_factors': 5}\n",
      "Evaluating RMSE, MAE of algorithm SVD on 3 split(s).\n",
      "\n",
      "                  Fold 1  Fold 2  Fold 3  Mean    Std     \n",
      "RMSE (testset)    0.9481  0.9517  0.9484  0.9494  0.0016  \n",
      "MAE (testset)     0.7517  0.7511  0.7501  0.7510  0.0007  \n",
      "Fit time          9.30    9.61    7.82    8.91    0.78    \n",
      "Test time         0.83    1.05    0.47    0.78    0.24    \n"
     ]
    },
    {
     "data": {
      "text/plain": [
       "{'fit_time': (9.301164865493774, 9.612375736236572, 7.820183277130127),\n",
       " 'test_mae': array([0.75174253, 0.75113108, 0.75009476]),\n",
       " 'test_rmse': array([0.94808945, 0.95166757, 0.94836374]),\n",
       " 'test_time': (0.8265485763549805, 1.0536987781524658, 0.47431373596191406)}"
      ]
     },
     "execution_count": 90,
     "metadata": {},
     "output_type": "execute_result"
    }
   ],
   "source": [
    "gs2 = GridSearchCV(SVD, param_grid1, measures=['rmse'], cv=3)\n",
    "gs2.fit(data)\n",
    "algo = gs2.best_estimator['rmse']\n",
    "print(gs2.best_score['rmse'])\n",
    "print(gs2.best_params['rmse'])\n",
    "cross_validate(algo, data, measures=['RMSE', 'MAE'], cv=3, verbose=True)"
   ]
  },
  {
   "cell_type": "code",
   "execution_count": 112,
   "metadata": {},
   "outputs": [
    {
     "data": {
      "image/png": "[encoded data removed]",
      "text/plain": [
       "<Figure size 2160x720 with 1 Axes>"
      ]
     },
     "metadata": {},
     "output_type": "display_data"
    }
   ],
   "source": [
    "plt.figure(figsize = (30, 10))\n",
    "plt.plot(gs2.cv_results['param_n_epochs'],gs2.cv_results['mean_test_rmse'], linewidth=3)\n",
    "#plt.plot(gs2.best_params['rmse'],label='Test', linewidth=3)\n",
    "plt.title('Iterations vs TestMSE')\n",
    "plt.xticks(fontsize=8)\n",
    "plt.yticks(fontsize=8)\n",
    "plt.xlabel('iterations', fontsize=8)\n",
    "plt.ylabel('MSE', fontsize=8)\n",
    "plt.show()"
   ]
  }
 ],
 "metadata": {
  "kernelspec": {
   "display_name": "Python 3",
   "language": "python",
   "name": "python3"
  },
  "language_info": {
   "codemirror_mode": {
    "name": "ipython",
    "version": 3
   },
   "file_extension": ".py",
   "mimetype": "text/x-python",
   "name": "python",
   "nbconvert_exporter": "python",
   "pygments_lexer": "ipython3",
   "version": "3.5.5"
  }
 },
 "nbformat": 4,
 "nbformat_minor": 2
}
